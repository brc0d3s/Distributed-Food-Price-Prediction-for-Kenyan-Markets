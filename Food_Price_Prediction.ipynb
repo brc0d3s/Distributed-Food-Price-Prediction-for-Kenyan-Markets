{
 "cells": [
  {
   "cell_type": "markdown",
   "metadata": {
    "id": "Hso8ISnMNLPo"
   },
   "source": [
    "# Food Price Data Source\n",
    "\n",
    "[WFP Food Prices Kenya Dataset](https://data.humdata.org/dataset/wfp-food-prices-for-kenya)\n",
    "\n",
    "# Rainfall Data Source\n",
    "[WFP Rainfall Kenya Dataset](https://data.humdata.org/dataset/ken-rainfall-subnational)"
   ]
  },
  {
   "cell_type": "markdown",
   "metadata": {
    "id": "NTNavmO3NEJ0"
   },
   "source": [
    "# -------------------------------------------------------------------------------------------\n",
    "\n",
    "\n",
    "\n",
    "\n"
   ]
  },
  {
   "cell_type": "code",
   "execution_count": null,
   "metadata": {
    "id": "X7y6R1J0p9gG"
   },
   "outputs": [],
   "source": []
  },
  {
   "cell_type": "markdown",
   "metadata": {
    "id": "mYkCuqa7zc8I"
   },
   "source": [
    "# DATA CLEANING"
   ]
  },
  {
   "cell_type": "code",
   "execution_count": 4,
   "metadata": {
    "colab": {
     "base_uri": "https://localhost:8080/"
    },
    "executionInfo": {
     "elapsed": 3982,
     "status": "ok",
     "timestamp": 1744619202503,
     "user": {
      "displayName": "BRIAN OMONDI",
      "userId": "10412797874550437401"
     },
     "user_tz": -180
    },
    "id": "6f60bLgH0t-0",
    "outputId": "9654fd56-99ef-48be-b722-76b94d34b7a6"
   },
   "outputs": [
    {
     "name": "stdout",
     "output_type": "stream",
     "text": [
      "Requirement already satisfied: pyspark in /usr/local/python/3.12.1/lib/python3.12/site-packages (3.5.4)\n",
      "Requirement already satisfied: py4j==0.10.9.7 in /usr/local/python/3.12.1/lib/python3.12/site-packages (from pyspark) (0.10.9.7)\n",
      "Note: you may need to restart the kernel to use updated packages.\n"
     ]
    }
   ],
   "source": [
    "%pip install pyspark"
   ]
  },
  {
   "cell_type": "code",
   "execution_count": null,
   "metadata": {
    "colab": {
     "base_uri": "https://localhost:8080/",
     "height": 35
    },
    "executionInfo": {
     "elapsed": 60,
     "status": "ok",
     "timestamp": 1744619202592,
     "user": {
      "displayName": "BRIAN OMONDI",
      "userId": "10412797874550437401"
     },
     "user_tz": -180
    },
    "id": "2MDXVnTr2lGR",
    "outputId": "4ffe287e-c00b-4b5c-c728-f28a62f053a5"
   },
   "outputs": [
    {
     "name": "stderr",
     "output_type": "stream",
     "text": [
      "25/04/15 03:11:09 WARN Utils: Your hostname, codespaces-ebd91c resolves to a loopback address: 127.0.0.1; using 10.0.1.23 instead (on interface eth0)\n",
      "25/04/15 03:11:09 WARN Utils: Set SPARK_LOCAL_IP if you need to bind to another address\n",
      "Setting default log level to \"WARN\".\n",
      "To adjust logging level use sc.setLogLevel(newLevel). For SparkR, use setLogLevel(newLevel).\n",
      "25/04/15 03:11:10 WARN NativeCodeLoader: Unable to load native-hadoop library for your platform... using builtin-java classes where applicable\n"
     ]
    },
    {
     "data": {
      "text/plain": [
       "'FoodPricePrediction'"
      ]
     },
     "execution_count": 5,
     "metadata": {},
     "output_type": "execute_result"
    },
    {
     "name": "stderr",
     "output_type": "stream",
     "text": [
      "25/04/15 03:11:23 WARN GarbageCollectionMetrics: To enable non-built-in garbage collector(s) List(G1 Concurrent GC), users should configure it(them) to spark.eventLog.gcMetrics.youngGenerationGarbageCollectors or spark.eventLog.gcMetrics.oldGenerationGarbageCollectors\n"
     ]
    }
   ],
   "source": [
    "from pyspark.sql import SparkSession\n",
    "\n",
    "spark = SparkSession.builder.appName('FoodPricePrediction').master('local[*]').getOrCreate()\n",
    "\n",
    "spark.sparkContext.appName"
   ]
  },
  {
   "cell_type": "code",
   "execution_count": 6,
   "metadata": {
    "colab": {
     "base_uri": "https://localhost:8080/"
    },
    "executionInfo": {
     "elapsed": 281,
     "status": "ok",
     "timestamp": 1744619202871,
     "user": {
      "displayName": "BRIAN OMONDI",
      "userId": "10412797874550437401"
     },
     "user_tz": -180
    },
    "id": "vavs4RxJ2d5l",
    "outputId": "09afcdbe-5995-4af4-87e2-a8295f7c7802"
   },
   "outputs": [
    {
     "name": "stdout",
     "output_type": "stream",
     "text": [
      "root\n",
      " |-- date: string (nullable = true)\n",
      " |-- region: string (nullable = true)\n",
      " |-- county: string (nullable = true)\n",
      " |-- market: string (nullable = true)\n",
      " |-- category: string (nullable = true)\n",
      " |-- commodity: string (nullable = true)\n",
      " |-- unit: string (nullable = true)\n",
      " |-- pricetype: string (nullable = true)\n",
      " |-- price: double (nullable = true)\n",
      "\n"
     ]
    }
   ],
   "source": [
    "data = spark.read.csv(\"data/wfp_food_prices_ken_data.csv\",inferSchema=True,header=True)\n",
    "data.printSchema()"
   ]
  },
  {
   "cell_type": "code",
   "execution_count": 7,
   "metadata": {
    "colab": {
     "base_uri": "https://localhost:8080/"
    },
    "executionInfo": {
     "elapsed": 166,
     "status": "ok",
     "timestamp": 1744619203051,
     "user": {
      "displayName": "BRIAN OMONDI",
      "userId": "10412797874550437401"
     },
     "user_tz": -180
    },
    "id": "1ccbbgUPThS_",
    "outputId": "c8618f22-af35-4445-b197-e6a0ebad13d0"
   },
   "outputs": [
    {
     "name": "stdout",
     "output_type": "stream",
     "text": [
      "+---------+-------+--------+--------+------------------+-------------+-----+---------+------+\n",
      "|     date| region|  county|  market|          category|    commodity| unit|pricetype| price|\n",
      "+---------+-------+--------+--------+------------------+-------------+-----+---------+------+\n",
      "|1/15/2006|  Coast| Mombasa| Mombasa|cereals and tubers|        Maize|   KG|Wholesale| 16.13|\n",
      "|1/15/2006|Eastern|   Kitui|   Kitui|cereals and tubers|      Sorghum|90 KG|Wholesale|1800.0|\n",
      "|1/15/2006|Eastern|   Kitui|   Kitui|   pulses and nuts|  Beans (dry)|   KG|   Retail|  39.0|\n",
      "|1/15/2006|Eastern|Marsabit|Marsabit|cereals and tubers|Maize (white)|   KG|   Retail|  21.0|\n",
      "|1/15/2006|Nairobi| Nairobi| Nairobi|cereals and tubers|        Bread|400 G|   Retail|  26.0|\n",
      "+---------+-------+--------+--------+------------------+-------------+-----+---------+------+\n",
      "only showing top 5 rows\n",
      "\n"
     ]
    }
   ],
   "source": [
    "data.show(5)"
   ]
  },
  {
   "cell_type": "code",
   "execution_count": 8,
   "metadata": {
    "colab": {
     "base_uri": "https://localhost:8080/"
    },
    "executionInfo": {
     "elapsed": 789,
     "status": "ok",
     "timestamp": 1744619203838,
     "user": {
      "displayName": "BRIAN OMONDI",
      "userId": "10412797874550437401"
     },
     "user_tz": -180
    },
    "id": "ajhq67CrTRY2",
    "outputId": "a86b5d2a-bc75-446f-f983-15cef7711aa3"
   },
   "outputs": [
    {
     "name": "stdout",
     "output_type": "stream",
     "text": [
      "root\n",
      " |-- date: string (nullable = true)\n",
      " |-- rainfall_mm: double (nullable = true)\n",
      "\n"
     ]
    },
    {
     "name": "stderr",
     "output_type": "stream",
     "text": [
      "                                                                                \r"
     ]
    }
   ],
   "source": [
    "rainfall = spark.read.csv(\"data/ken-rainfall-data.csv\",inferSchema=True,header=True)\n",
    "rainfall.printSchema()"
   ]
  },
  {
   "cell_type": "code",
   "execution_count": 9,
   "metadata": {
    "colab": {
     "base_uri": "https://localhost:8080/"
    },
    "executionInfo": {
     "elapsed": 83,
     "status": "ok",
     "timestamp": 1744619203924,
     "user": {
      "displayName": "BRIAN OMONDI",
      "userId": "10412797874550437401"
     },
     "user_tz": -180
    },
    "id": "tL-ilcWx3_uu",
    "outputId": "cdc3b699-3a47-47d5-f232-b5080a5775fc"
   },
   "outputs": [
    {
     "name": "stdout",
     "output_type": "stream",
     "text": [
      "+---------+-----------+\n",
      "|     date|rainfall_mm|\n",
      "+---------+-----------+\n",
      "| 1/1/1981|       NULL|\n",
      "|1/11/1981|       NULL|\n",
      "|1/21/1981|       NULL|\n",
      "| 2/1/1981|       NULL|\n",
      "|2/11/1981|       NULL|\n",
      "+---------+-----------+\n",
      "only showing top 5 rows\n",
      "\n"
     ]
    }
   ],
   "source": [
    "rainfall.show(5)"
   ]
  },
  {
   "cell_type": "code",
   "execution_count": 10,
   "metadata": {
    "id": "X3tSQ0FKUsPf"
   },
   "outputs": [],
   "source": [
    "from pyspark.sql.functions import to_date\n",
    "\n",
    "# Convert date strings to DateType\n",
    "data = data.withColumn(\"date\", to_date(\"date\", \"M/d/yyyy\"))\n",
    "rainfall = rainfall.withColumn(\"date\", to_date(\"date\", \"M/d/yyyy\"))\n"
   ]
  },
  {
   "cell_type": "code",
   "execution_count": 11,
   "metadata": {
    "colab": {
     "base_uri": "https://localhost:8080/"
    },
    "executionInfo": {
     "elapsed": 100,
     "status": "ok",
     "timestamp": 1744619204032,
     "user": {
      "displayName": "BRIAN OMONDI",
      "userId": "10412797874550437401"
     },
     "user_tz": -180
    },
    "id": "qtVrXEiQm6VF",
    "outputId": "ef1ab9be-2af4-407d-c179-fc8cf055fdf6"
   },
   "outputs": [
    {
     "name": "stdout",
     "output_type": "stream",
     "text": [
      "+-------+--------+--------+------------------+-------------+-----+---------+------+-----+----+\n",
      "| region|  county|  market|          category|    commodity| unit|pricetype| price|month|year|\n",
      "+-------+--------+--------+------------------+-------------+-----+---------+------+-----+----+\n",
      "|  Coast| Mombasa| Mombasa|cereals and tubers|        Maize|   KG|Wholesale| 16.13|    1|2006|\n",
      "|Eastern|   Kitui|   Kitui|cereals and tubers|      Sorghum|90 KG|Wholesale|1800.0|    1|2006|\n",
      "|Eastern|   Kitui|   Kitui|   pulses and nuts|  Beans (dry)|   KG|   Retail|  39.0|    1|2006|\n",
      "|Eastern|Marsabit|Marsabit|cereals and tubers|Maize (white)|   KG|   Retail|  21.0|    1|2006|\n",
      "|Nairobi| Nairobi| Nairobi|cereals and tubers|        Bread|400 G|   Retail|  26.0|    1|2006|\n",
      "+-------+--------+--------+------------------+-------------+-----+---------+------+-----+----+\n",
      "only showing top 5 rows\n",
      "\n"
     ]
    }
   ],
   "source": [
    "from pyspark.sql import functions as F\n",
    "\n",
    "# Split the 'date' column into 'month' and 'year'\n",
    "data1 = data.withColumn('month', F.month('date')) \\\n",
    "                       .withColumn('year', F.year('date'))\n",
    "data1 = data1.drop('date')\n",
    "\n",
    "data1.show(5)\n"
   ]
  },
  {
   "cell_type": "code",
   "execution_count": 12,
   "metadata": {
    "colab": {
     "base_uri": "https://localhost:8080/"
    },
    "executionInfo": {
     "elapsed": 1250,
     "status": "ok",
     "timestamp": 1744619205285,
     "user": {
      "displayName": "BRIAN OMONDI",
      "userId": "10412797874550437401"
     },
     "user_tz": -180
    },
    "id": "FK1_rHd6VFr-",
    "outputId": "e8c71705-7646-4053-854d-5d6f43ecf6cf"
   },
   "outputs": [
    {
     "name": "stdout",
     "output_type": "stream",
     "text": [
      "+----+------+------+------+--------+---------+----+---------+-----+\n",
      "|date|region|county|market|category|commodity|unit|pricetype|price|\n",
      "+----+------+------+------+--------+---------+----+---------+-----+\n",
      "|   0|    44|    44|     0|       0|        0|   0|        0|    0|\n",
      "+----+------+------+------+--------+---------+----+---------+-----+\n",
      "\n",
      "+----+-----------+\n",
      "|date|rainfall_mm|\n",
      "+----+-----------+\n",
      "|   0|        584|\n",
      "+----+-----------+\n",
      "\n"
     ]
    },
    {
     "name": "stderr",
     "output_type": "stream",
     "text": [
      "                                                                                \r"
     ]
    }
   ],
   "source": [
    "from pyspark.sql.functions import col, sum\n",
    "\n",
    "# Count nulls in each column for 'data' DataFrame\n",
    "null_counts = data.select([sum(col(c).isNull().cast(\"int\")).alias(c) for c in data.columns])\n",
    "null_counts.show()\n",
    "\n",
    "# Count nulls in each column for 'rainfall' DataFrame\n",
    "rainfall_null_counts = rainfall.select([sum(col(c).isNull().cast(\"int\")).alias(c) for c in rainfall.columns])\n",
    "rainfall_null_counts.show()"
   ]
  },
  {
   "cell_type": "code",
   "execution_count": 13,
   "metadata": {
    "id": "U9B5e4bkX7Me"
   },
   "outputs": [],
   "source": [
    "data_clean = data.dropna()\n",
    "rainfall_clean = rainfall.dropna()"
   ]
  },
  {
   "cell_type": "code",
   "execution_count": 14,
   "metadata": {
    "colab": {
     "base_uri": "https://localhost:8080/"
    },
    "executionInfo": {
     "elapsed": 260,
     "status": "ok",
     "timestamp": 1744619205594,
     "user": {
      "displayName": "BRIAN OMONDI",
      "userId": "10412797874550437401"
     },
     "user_tz": -180
    },
    "id": "f5bO_Bb_YM23",
    "outputId": "3226d37a-afbd-4db5-c2a8-270381f84c6b"
   },
   "outputs": [
    {
     "data": {
      "text/plain": [
       "(12702, 9)"
      ]
     },
     "execution_count": 14,
     "metadata": {},
     "output_type": "execute_result"
    }
   ],
   "source": [
    "data_clean.count(), len(data.columns)"
   ]
  },
  {
   "cell_type": "code",
   "execution_count": 15,
   "metadata": {
    "colab": {
     "base_uri": "https://localhost:8080/"
    },
    "executionInfo": {
     "elapsed": 464,
     "status": "ok",
     "timestamp": 1744619206084,
     "user": {
      "displayName": "BRIAN OMONDI",
      "userId": "10412797874550437401"
     },
     "user_tz": -180
    },
    "id": "P0yiw9EuYXEV",
    "outputId": "45152d6c-6d2e-48dc-bfe3-a1f46ea9d553"
   },
   "outputs": [
    {
     "data": {
      "text/plain": [
       "(115705, 2)"
      ]
     },
     "execution_count": 15,
     "metadata": {},
     "output_type": "execute_result"
    }
   ],
   "source": [
    "rainfall_clean.count(), len(rainfall.columns)"
   ]
  },
  {
   "cell_type": "code",
   "execution_count": 16,
   "metadata": {
    "colab": {
     "base_uri": "https://localhost:8080/"
    },
    "executionInfo": {
     "elapsed": 98,
     "status": "ok",
     "timestamp": 1744619206176,
     "user": {
      "displayName": "BRIAN OMONDI",
      "userId": "10412797874550437401"
     },
     "user_tz": -180
    },
    "id": "b5ZP4m4wCVMy",
    "outputId": "145b92b7-2c19-41a1-9cb2-19c01cfbda07"
   },
   "outputs": [
    {
     "name": "stdout",
     "output_type": "stream",
     "text": [
      "+----------+-------+--------+--------+------------------+-------------+-----+---------+------+\n",
      "|      date| region|  county|  market|          category|    commodity| unit|pricetype| price|\n",
      "+----------+-------+--------+--------+------------------+-------------+-----+---------+------+\n",
      "|2006-01-15|  Coast| Mombasa| Mombasa|cereals and tubers|        Maize|   KG|Wholesale| 16.13|\n",
      "|2006-01-15|Eastern|   Kitui|   Kitui|cereals and tubers|      Sorghum|90 KG|Wholesale|1800.0|\n",
      "|2006-01-15|Eastern|   Kitui|   Kitui|   pulses and nuts|  Beans (dry)|   KG|   Retail|  39.0|\n",
      "|2006-01-15|Eastern|Marsabit|Marsabit|cereals and tubers|Maize (white)|   KG|   Retail|  21.0|\n",
      "|2006-01-15|Nairobi| Nairobi| Nairobi|cereals and tubers|        Bread|400 G|   Retail|  26.0|\n",
      "+----------+-------+--------+--------+------------------+-------------+-----+---------+------+\n",
      "only showing top 5 rows\n",
      "\n"
     ]
    }
   ],
   "source": [
    "data_clean.show(5)"
   ]
  },
  {
   "cell_type": "code",
   "execution_count": 17,
   "metadata": {
    "colab": {
     "base_uri": "https://localhost:8080/"
    },
    "executionInfo": {
     "elapsed": 71,
     "status": "ok",
     "timestamp": 1744619206267,
     "user": {
      "displayName": "BRIAN OMONDI",
      "userId": "10412797874550437401"
     },
     "user_tz": -180
    },
    "id": "MAkV8Ut34-vA",
    "outputId": "696ab082-1524-4073-e608-40ff62dcfbba"
   },
   "outputs": [
    {
     "name": "stdout",
     "output_type": "stream",
     "text": [
      "+----------+-----------+\n",
      "|      date|rainfall_mm|\n",
      "+----------+-----------+\n",
      "|1981-03-21|   266.3542|\n",
      "|1981-04-01|     360.75|\n",
      "|1981-04-11|      542.5|\n",
      "|1981-04-21|   608.1042|\n",
      "|1981-05-01|   767.2083|\n",
      "+----------+-----------+\n",
      "only showing top 5 rows\n",
      "\n"
     ]
    }
   ],
   "source": [
    "rainfall_clean.show(5)"
   ]
  },
  {
   "cell_type": "code",
   "execution_count": 18,
   "metadata": {
    "colab": {
     "base_uri": "https://localhost:8080/"
    },
    "executionInfo": {
     "elapsed": 514,
     "status": "ok",
     "timestamp": 1744619206783,
     "user": {
      "displayName": "BRIAN OMONDI",
      "userId": "10412797874550437401"
     },
     "user_tz": -180
    },
    "id": "8njPqfAnwdys",
    "outputId": "b3c0741b-9ccc-4715-b715-344b38779290"
   },
   "outputs": [
    {
     "name": "stdout",
     "output_type": "stream",
     "text": [
      "+-------+--------+--------+------------------+-------------+-----+---------+------+-----+----+\n",
      "| region|  county|  market|          category|    commodity| unit|pricetype| price|month|year|\n",
      "+-------+--------+--------+------------------+-------------+-----+---------+------+-----+----+\n",
      "|  Coast| Mombasa| Mombasa|cereals and tubers|        Maize|   KG|Wholesale| 38.44|    1|2014|\n",
      "|  Coast| Mombasa| Mombasa|   pulses and nuts|        Beans|   KG|Wholesale| 79.99|    1|2014|\n",
      "|  Coast| Mombasa| Mombasa|   pulses and nuts|  Beans (dry)|90 KG|Wholesale|5738.0|    1|2014|\n",
      "|Eastern|   Kitui|   Kitui|   pulses and nuts|  Beans (dry)|   KG|   Retail|  74.0|    1|2014|\n",
      "|Eastern|Marsabit|Marsabit|cereals and tubers|Maize (white)|   KG|   Retail| 53.36|    1|2014|\n",
      "+-------+--------+--------+------------------+-------------+-----+---------+------+-----+----+\n",
      "only showing top 5 rows\n",
      "\n"
     ]
    }
   ],
   "source": [
    "from pyspark.sql import functions as F\n",
    "\n",
    "# Split the 'date' column into 'month' and 'year'\n",
    "data_clean = data_clean.withColumn('month', F.month('date')) \\\n",
    "                       .withColumn('year', F.year('date'))\n",
    "\n",
    "# Drop the 'date' column\n",
    "data_clean = data_clean.drop('date')\n",
    "\n",
    "# Filter years between 2014 and 2024 (inclusive)\n",
    "data_clean = data_clean.filter((data_clean.year >= 2014) & (data_clean.year <= 2024))\n",
    "\n",
    "# Sort by year and month\n",
    "data_clean = data_clean.orderBy(\"year\", \"month\")\n",
    "\n",
    "data_clean.show(5)"
   ]
  },
  {
   "cell_type": "code",
   "execution_count": 19,
   "metadata": {
    "colab": {
     "base_uri": "https://localhost:8080/"
    },
    "executionInfo": {
     "elapsed": 1903,
     "status": "ok",
     "timestamp": 1744619208701,
     "user": {
      "displayName": "BRIAN OMONDI",
      "userId": "10412797874550437401"
     },
     "user_tz": -180
    },
    "id": "UDkpP1-7hr8F",
    "outputId": "e927081b-3e33-42c9-8224-75b2c5665d3e"
   },
   "outputs": [
    {
     "name": "stderr",
     "output_type": "stream",
     "text": [
      "[Stage 22:>                                                         (0 + 1) / 1]\r"
     ]
    },
    {
     "name": "stdout",
     "output_type": "stream",
     "text": [
      "+----+-----+---------------+\n",
      "|year|month|avg_rainfall_mm|\n",
      "+----+-----+---------------+\n",
      "|2014|    1|         259.33|\n",
      "|2014|    2|         201.62|\n",
      "|2014|    3|         184.92|\n",
      "|2014|    4|         269.88|\n",
      "|2014|    5|         339.76|\n",
      "+----+-----+---------------+\n",
      "only showing top 5 rows\n",
      "\n"
     ]
    },
    {
     "name": "stderr",
     "output_type": "stream",
     "text": [
      "                                                                                \r"
     ]
    }
   ],
   "source": [
    "from pyspark.sql import functions as F\n",
    "from pyspark.sql.functions import avg, round\n",
    "\n",
    "# Split the 'date' column into 'month' and 'year'\n",
    "rainfall_clean = rainfall_clean.withColumn('month', F.month('date')) \\\n",
    "                               .withColumn('year', F.year('date'))\n",
    "\n",
    "# Drop the 'date' column\n",
    "rainfall_clean = rainfall_clean.drop('date')\n",
    "\n",
    "# Group by year and month, and calculate average rainfall rounded to 2 decimal places\n",
    "rainfall_clean = rainfall_clean.groupBy(\"year\", \"month\").agg(\n",
    "    round(avg(\"rainfall_mm\"), 2).alias(\"avg_rainfall_mm\")\n",
    ")\n",
    "\n",
    "# Filter years between 2014 and 2024 (inclusive)\n",
    "rainfall_clean = rainfall_clean.filter((rainfall_clean.year >= 2014) & (rainfall_clean.year <= 2024))\n",
    "\n",
    "# Sort by year and month\n",
    "rainfall_clean = rainfall_clean.orderBy(\"year\", \"month\")\n",
    "\n",
    "# Show first 5 rows\n",
    "rainfall_clean.show(5)"
   ]
  },
  {
   "cell_type": "code",
   "execution_count": 20,
   "metadata": {
    "colab": {
     "base_uri": "https://localhost:8080/"
    },
    "executionInfo": {
     "elapsed": 2097,
     "status": "ok",
     "timestamp": 1744619210799,
     "user": {
      "displayName": "BRIAN OMONDI",
      "userId": "10412797874550437401"
     },
     "user_tz": -180
    },
    "id": "-oB5mOGV1lUj",
    "outputId": "8d4933e5-84fb-49f6-ade7-d9a273cc9d79"
   },
   "outputs": [
    {
     "name": "stderr",
     "output_type": "stream",
     "text": [
      "                                                                                \r"
     ]
    },
    {
     "name": "stdout",
     "output_type": "stream",
     "text": [
      "+----+-----+-------+--------+--------+------------------+-------------+-----+---------+------+---------------+\n",
      "|year|month| region|  county|  market|          category|    commodity| unit|pricetype| price|avg_rainfall_mm|\n",
      "+----+-----+-------+--------+--------+------------------+-------------+-----+---------+------+---------------+\n",
      "|2014|    1|  Coast| Mombasa| Mombasa|cereals and tubers|        Maize|   KG|Wholesale| 38.44|         259.33|\n",
      "|2014|    1|  Coast| Mombasa| Mombasa|   pulses and nuts|        Beans|   KG|Wholesale| 79.99|         259.33|\n",
      "|2014|    1|  Coast| Mombasa| Mombasa|   pulses and nuts|  Beans (dry)|90 KG|Wholesale|5738.0|         259.33|\n",
      "|2014|    1|Eastern|   Kitui|   Kitui|   pulses and nuts|  Beans (dry)|   KG|   Retail|  74.0|         259.33|\n",
      "|2014|    1|Eastern|Marsabit|Marsabit|cereals and tubers|Maize (white)|   KG|   Retail| 53.36|         259.33|\n",
      "+----+-----+-------+--------+--------+------------------+-------------+-----+---------+------+---------------+\n",
      "only showing top 5 rows\n",
      "\n"
     ]
    }
   ],
   "source": [
    "# Join market price data with rainfall data on year and month\n",
    "food_price_data = data_clean.join(\n",
    "    rainfall_clean,\n",
    "    on=[\"year\", \"month\"],  # Join keys\n",
    "    how=\"left\"\n",
    ")\n",
    "\n",
    "# Show sample of the joined result\n",
    "food_price_data.show(5)"
   ]
  },
  {
   "cell_type": "code",
   "execution_count": 21,
   "metadata": {
    "colab": {
     "base_uri": "https://localhost:8080/"
    },
    "executionInfo": {
     "elapsed": 2852,
     "status": "ok",
     "timestamp": 1744619213652,
     "user": {
      "displayName": "BRIAN OMONDI",
      "userId": "10412797874550437401"
     },
     "user_tz": -180
    },
    "id": "a5KSBzWq1k_7",
    "outputId": "6673188a-a465-4162-dc3a-f52c57c1d3d2"
   },
   "outputs": [
    {
     "name": "stdout",
     "output_type": "stream",
     "text": [
      "+----+-----+------+------+------+--------+---------+----+---------+-----+---------------+\n",
      "|year|month|region|county|market|category|commodity|unit|pricetype|price|avg_rainfall_mm|\n",
      "+----+-----+------+------+------+--------+---------+----+---------+-----+---------------+\n",
      "|   0|    0|     0|     0|     0|       0|        0|   0|        0|    0|              0|\n",
      "+----+-----+------+------+------+--------+---------+----+---------+-----+---------------+\n",
      "\n"
     ]
    }
   ],
   "source": [
    "from pyspark.sql.functions import col, sum\n",
    "\n",
    "# Count nulls\n",
    "nulls = food_price_data.select([sum(col(c).isNull().cast(\"int\")).alias(c) for c in food_price_data.columns])\n",
    "nulls.show()"
   ]
  },
  {
   "cell_type": "code",
   "execution_count": 22,
   "metadata": {
    "colab": {
     "base_uri": "https://localhost:8080/"
    },
    "executionInfo": {
     "elapsed": 8434,
     "status": "ok",
     "timestamp": 1744619222087,
     "user": {
      "displayName": "BRIAN OMONDI",
      "userId": "10412797874550437401"
     },
     "user_tz": -180
    },
    "id": "l68ByrPC7rY-",
    "outputId": "0ec75e21-2aab-4828-e262-47769d2585b0"
   },
   "outputs": [
    {
     "name": "stdout",
     "output_type": "stream",
     "text": [
      "\n",
      "Unique values for column: year\n"
     ]
    },
    {
     "name": "stdout",
     "output_type": "stream",
     "text": [
      "+----+\n",
      "|year|\n",
      "+----+\n",
      "|2018|\n",
      "|2015|\n",
      "|2023|\n",
      "|2022|\n",
      "|2014|\n",
      "|2019|\n",
      "|2020|\n",
      "|2016|\n",
      "|2024|\n",
      "|2017|\n",
      "|2021|\n",
      "+----+\n",
      "\n",
      "\n",
      "Unique values for column: month\n",
      "+-----+\n",
      "|month|\n",
      "+-----+\n",
      "|12   |\n",
      "|1    |\n",
      "|6    |\n",
      "|3    |\n",
      "|5    |\n",
      "|9    |\n",
      "|4    |\n",
      "|8    |\n",
      "|7    |\n",
      "|10   |\n",
      "|11   |\n",
      "|2    |\n",
      "+-----+\n",
      "\n",
      "\n",
      "Unique values for column: region\n",
      "+-------------+\n",
      "|region       |\n",
      "+-------------+\n",
      "|Rift Valley  |\n",
      "|Eastern      |\n",
      "|North Eastern|\n",
      "|Nyanza       |\n",
      "|Coast        |\n",
      "|Central      |\n",
      "|Nairobi      |\n",
      "+-------------+\n",
      "\n",
      "\n",
      "Unique values for column: county\n",
      "+-----------+\n",
      "|county     |\n",
      "+-----------+\n",
      "|Uasin Gishu|\n",
      "|Nakuru     |\n",
      "|Mandera    |\n",
      "|Kisumu     |\n",
      "|Marsabit   |\n",
      "|Wajir      |\n",
      "|Kajiado    |\n",
      "|Turkana    |\n",
      "|Mombasa    |\n",
      "|Kwale      |\n",
      "|Makueni    |\n",
      "|Meru South |\n",
      "|Garissa    |\n",
      "|Nairobi    |\n",
      "|Isiolo     |\n",
      "|Kitui      |\n",
      "|Kilifi     |\n",
      "|Baringo    |\n",
      "|West Pokot |\n",
      "|Nyeri      |\n",
      "+-----------+\n",
      "only showing top 20 rows\n",
      "\n",
      "\n",
      "Unique values for column: market\n",
      "+-------------------------------+\n",
      "|market                         |\n",
      "+-------------------------------+\n",
      "|Kaanwa (Tharaka Nithi)         |\n",
      "|Illbissil Food Market (Kajiado)|\n",
      "|IFO (Daadab)                   |\n",
      "|Kibra (Nairobi)                |\n",
      "|Dadaab town                    |\n",
      "|Kalahari (Mombasa)             |\n",
      "|Mathare (Nairobi)              |\n",
      "|Kitengela (Kajiado)            |\n",
      "|Kakuma 3                       |\n",
      "|Mukuru (Nairobi)               |\n",
      "|Shonda (Mombasa)               |\n",
      "|Nakuru                         |\n",
      "|Lodwar town                    |\n",
      "|Moroto (Mombasa)               |\n",
      "|Kalobeyei (Village 3)          |\n",
      "|Wote town (Makueni)            |\n",
      "|Dandora (Nairobi)              |\n",
      "|Kakuma 2                       |\n",
      "|Kakuma 4                       |\n",
      "|Wakulima (Nakuru)              |\n",
      "+-------------------------------+\n",
      "only showing top 20 rows\n",
      "\n",
      "\n",
      "Unique values for column: category\n",
      "+---------------------+\n",
      "|category             |\n",
      "+---------------------+\n",
      "|milk and dairy       |\n",
      "|pulses and nuts      |\n",
      "|non-food             |\n",
      "|meat, fish and eggs  |\n",
      "|vegetables and fruits|\n",
      "|oil and fats         |\n",
      "|cereals and tubers   |\n",
      "|miscellaneous food   |\n",
      "+---------------------+\n",
      "\n",
      "\n",
      "Unique values for column: commodity\n",
      "+-------------------------+\n",
      "|commodity                |\n",
      "+-------------------------+\n",
      "|Maize flour              |\n",
      "|Meat (camel)             |\n",
      "|Beans (mung)             |\n",
      "|Milk (cow, pasteurized)  |\n",
      "|Salt                     |\n",
      "|Maize (white)            |\n",
      "|Wheat flour              |\n",
      "|Cowpea leaves            |\n",
      "|Sorghum                  |\n",
      "|Beans (kidney)           |\n",
      "|Beans                    |\n",
      "|Rice (imported, Pakistan)|\n",
      "|Milk (camel, fresh)      |\n",
      "|Maize                    |\n",
      "|Potatoes (Irish, white)  |\n",
      "|Tomatoes                 |\n",
      "|Oil (vegetable)          |\n",
      "|Meat (beef)              |\n",
      "|Cabbage                  |\n",
      "|Beans (dolichos)         |\n",
      "+-------------------------+\n",
      "only showing top 20 rows\n",
      "\n",
      "\n",
      "Unique values for column: unit\n",
      "+------+\n",
      "|unit  |\n",
      "+------+\n",
      "|Bunch |\n",
      "|400 G |\n",
      "|64 KG |\n",
      "|Head  |\n",
      "|L     |\n",
      "|200 G |\n",
      "|50 KG |\n",
      "|13 KG |\n",
      "|90 KG |\n",
      "|200 ML|\n",
      "|126 KG|\n",
      "|KG    |\n",
      "|Unit  |\n",
      "|500 ML|\n",
      "+------+\n",
      "\n",
      "\n",
      "Unique values for column: pricetype\n",
      "+---------+\n",
      "|pricetype|\n",
      "+---------+\n",
      "|Wholesale|\n",
      "|Retail   |\n",
      "+---------+\n",
      "\n",
      "\n",
      "Unique values for column: price\n",
      "+-------+\n",
      "|price  |\n",
      "+-------+\n",
      "|78.75  |\n",
      "|26.72  |\n",
      "|4800.0 |\n",
      "|53.08  |\n",
      "|67.21  |\n",
      "|6277.33|\n",
      "|38.61  |\n",
      "|85.86  |\n",
      "|82.51  |\n",
      "|2668.8 |\n",
      "|77.19  |\n",
      "|116.04 |\n",
      "|153.33 |\n",
      "|2333.32|\n",
      "|1873.33|\n",
      "|999.7  |\n",
      "|70.52  |\n",
      "|73.02  |\n",
      "|122.78 |\n",
      "|532.46 |\n",
      "+-------+\n",
      "only showing top 20 rows\n",
      "\n",
      "\n",
      "Unique values for column: avg_rainfall_mm\n",
      "+---------------+\n",
      "|avg_rainfall_mm|\n",
      "+---------------+\n",
      "|284.42         |\n",
      "|259.33         |\n",
      "|723.67         |\n",
      "|321.58         |\n",
      "|249.0          |\n",
      "|296.45         |\n",
      "|209.56         |\n",
      "|677.82         |\n",
      "|371.55         |\n",
      "|481.28         |\n",
      "|261.79         |\n",
      "|314.38         |\n",
      "|310.56         |\n",
      "|262.84         |\n",
      "|494.02         |\n",
      "|169.64         |\n",
      "|254.62         |\n",
      "|162.83         |\n",
      "|134.11         |\n",
      "|461.47         |\n",
      "+---------------+\n",
      "only showing top 20 rows\n",
      "\n"
     ]
    }
   ],
   "source": [
    "for column in food_price_data.columns:\n",
    "    print(f\"\\nUnique values for column: {column}\")\n",
    "    food_price_data.select(column).distinct().show(truncate=False)"
   ]
  },
  {
   "cell_type": "code",
   "execution_count": 23,
   "metadata": {
    "colab": {
     "base_uri": "https://localhost:8080/"
    },
    "executionInfo": {
     "elapsed": 1338,
     "status": "ok",
     "timestamp": 1744619223448,
     "user": {
      "displayName": "BRIAN OMONDI",
      "userId": "10412797874550437401"
     },
     "user_tz": -180
    },
    "id": "trbsgQhgOxPZ",
    "outputId": "7e9b084c-c63f-45fb-dc4f-8de7fa158297"
   },
   "outputs": [
    {
     "name": "stderr",
     "output_type": "stream",
     "text": [
      "[Stage 74:>                                                         (0 + 1) / 1]\r"
     ]
    },
    {
     "name": "stdout",
     "output_type": "stream",
     "text": [
      "+------+-----+----------------+--------------------+\n",
      "|price |unit |normalized_price|log_normalized_price|\n",
      "+------+-----+----------------+--------------------+\n",
      "|38.44 |KG   |38.44           |3.6747805297344347  |\n",
      "|79.99 |KG   |79.99           |4.3943256902608985  |\n",
      "|5738.0|90 KG|63.76           |4.170688128809434   |\n",
      "|74.0  |KG   |74.0            |4.31748811353631    |\n",
      "|53.36 |KG   |53.36           |3.995628589282943   |\n",
      "+------+-----+----------------+--------------------+\n",
      "only showing top 5 rows\n",
      "\n"
     ]
    },
    {
     "name": "stderr",
     "output_type": "stream",
     "text": [
      "                                                                                \r"
     ]
    }
   ],
   "source": [
    "from pyspark.sql.functions import udf, col, round as spark_round, log1p\n",
    "from pyspark.sql.types import DoubleType\n",
    "\n",
    "# List of units to drop\n",
    "units_to_drop = [\"Unit\", \"Bunch\", \"Head\"]\n",
    "food_price_data = food_price_data.filter(~col(\"unit\").isin(units_to_drop))\n",
    "\n",
    "# Define conversion factors\n",
    "unit_conversion = {\n",
    "    '400 G': 2.5,\n",
    "    '64 KG': 1/64,\n",
    "    'L': 1,\n",
    "    '200 G': 5,\n",
    "    '50 KG': 1/50,\n",
    "    '13 KG': 1/13,\n",
    "    '90 KG': 1/90,\n",
    "    '200 ML': 5,\n",
    "    '126 KG': 1/126,\n",
    "    'KG': 1,\n",
    "    '500 ML': 2\n",
    "}\n",
    "\n",
    "# Create UDF\n",
    "def normalize_price(price, unit):\n",
    "    factor = unit_conversion.get(unit, 1)\n",
    "    return price * factor\n",
    "\n",
    "normalize_price_udf = udf(normalize_price, DoubleType())\n",
    "\n",
    "# Apply normalization\n",
    "food_price_data = food_price_data.withColumn(\"normalized_price\", normalize_price_udf(col(\"price\"), col(\"unit\")))\n",
    "\n",
    "# Round to 2 decimal places\n",
    "food_price_data = food_price_data.withColumn(\"normalized_price\", spark_round(col(\"normalized_price\"), 2))\n",
    "\n",
    "# log transform to reduce skewness\n",
    "food_price_data = food_price_data.withColumn(\"log_normalized_price\", log1p(col(\"normalized_price\")))\n",
    "\n",
    "# Show first 5 rows\n",
    "food_price_data.select(\"price\", \"unit\", \"normalized_price\", \"log_normalized_price\").show(5, truncate=False)"
   ]
  },
  {
   "cell_type": "code",
   "execution_count": 24,
   "metadata": {
    "colab": {
     "base_uri": "https://localhost:8080/"
    },
    "executionInfo": {
     "elapsed": 1198,
     "status": "ok",
     "timestamp": 1744619224649,
     "user": {
      "displayName": "BRIAN OMONDI",
      "userId": "10412797874550437401"
     },
     "user_tz": -180
    },
    "id": "Rg5YOrVYQ8_d",
    "outputId": "978d6967-61be-4c03-c1d4-0b7d9932c6ec"
   },
   "outputs": [
    {
     "name": "stdout",
     "output_type": "stream",
     "text": [
      "+----+-----+-------+-------+-------+------------------+-----------+-----+---------+------+---------------+----------------+--------------------+\n",
      "|year|month| region| county| market|          category|  commodity| unit|pricetype| price|avg_rainfall_mm|normalized_price|log_normalized_price|\n",
      "+----+-----+-------+-------+-------+------------------+-----------+-----+---------+------+---------------+----------------+--------------------+\n",
      "|2014|    1|  Coast|Mombasa|Mombasa|cereals and tubers|      Maize|   KG|Wholesale| 38.44|         259.33|           38.44|  3.6747805297344347|\n",
      "|2014|    1|  Coast|Mombasa|Mombasa|   pulses and nuts|      Beans|   KG|Wholesale| 79.99|         259.33|           79.99|  4.3943256902608985|\n",
      "|2014|    1|  Coast|Mombasa|Mombasa|   pulses and nuts|Beans (dry)|90 KG|Wholesale|5738.0|         259.33|           63.76|   4.170688128809434|\n",
      "|2014|    1|Eastern|  Kitui|  Kitui|   pulses and nuts|Beans (dry)|   KG|   Retail|  74.0|         259.33|            74.0|    4.31748811353631|\n",
      "+----+-----+-------+-------+-------+------------------+-----------+-----+---------+------+---------------+----------------+--------------------+\n",
      "only showing top 4 rows\n",
      "\n"
     ]
    }
   ],
   "source": [
    "food_price_data.show(4)"
   ]
  },
  {
   "cell_type": "code",
   "execution_count": 25,
   "metadata": {
    "id": "cRe2Swq25b4F"
   },
   "outputs": [
    {
     "name": "stderr",
     "output_type": "stream",
     "text": [
      "                                                                                \r"
     ]
    }
   ],
   "source": [
    "output_path = \"data/FoodPriceData\"\n",
    "\n",
    "food_price_data.write \\\n",
    "    .option(\"header\", \"true\") \\\n",
    "    .mode(\"overwrite\") \\\n",
    "    .csv(output_path)"
   ]
  },
  {
   "cell_type": "code",
   "execution_count": null,
   "metadata": {
    "id": "Skr7L5-_x4td"
   },
   "outputs": [],
   "source": []
  },
  {
   "cell_type": "code",
   "execution_count": null,
   "metadata": {
    "id": "0opyfRCwx4fv"
   },
   "outputs": [],
   "source": []
  },
  {
   "cell_type": "code",
   "execution_count": null,
   "metadata": {
    "id": "1CvJG95_x4Ul"
   },
   "outputs": [],
   "source": []
  },
  {
   "cell_type": "code",
   "execution_count": null,
   "metadata": {
    "id": "UjnkXc4Zx4JP"
   },
   "outputs": [],
   "source": []
  },
  {
   "cell_type": "code",
   "execution_count": null,
   "metadata": {
    "id": "2AviBhamx33H"
   },
   "outputs": [],
   "source": []
  },
  {
   "cell_type": "code",
   "execution_count": null,
   "metadata": {
    "id": "XZAcMzSX4-m4"
   },
   "outputs": [],
   "source": []
  },
  {
   "cell_type": "code",
   "execution_count": null,
   "metadata": {
    "id": "EN1IgwBYgFzn"
   },
   "outputs": [],
   "source": []
  },
  {
   "cell_type": "code",
   "execution_count": null,
   "metadata": {
    "id": "nwY7nq4ugFq4"
   },
   "outputs": [],
   "source": []
  },
  {
   "cell_type": "code",
   "execution_count": null,
   "metadata": {
    "id": "9EYCWxB7gFl_"
   },
   "outputs": [],
   "source": []
  },
  {
   "cell_type": "code",
   "execution_count": null,
   "metadata": {
    "id": "26ujmCeZgFfG"
   },
   "outputs": [],
   "source": []
  },
  {
   "cell_type": "code",
   "execution_count": null,
   "metadata": {
    "id": "DejnIObh4-e2"
   },
   "outputs": [],
   "source": []
  },
  {
   "cell_type": "code",
   "execution_count": null,
   "metadata": {
    "id": "tquIxQzk4-af"
   },
   "outputs": [],
   "source": []
  },
  {
   "cell_type": "code",
   "execution_count": null,
   "metadata": {
    "id": "rID9vtnOueI7"
   },
   "outputs": [],
   "source": []
  },
  {
   "cell_type": "code",
   "execution_count": null,
   "metadata": {
    "id": "kbcv3va0xLZs"
   },
   "outputs": [],
   "source": []
  },
  {
   "cell_type": "code",
   "execution_count": null,
   "metadata": {
    "id": "Aymml0KjxLKP"
   },
   "outputs": [],
   "source": []
  },
  {
   "cell_type": "code",
   "execution_count": null,
   "metadata": {
    "id": "W8IGz8UuxK2L"
   },
   "outputs": [],
   "source": []
  },
  {
   "cell_type": "markdown",
   "metadata": {
    "id": "35ubfEvC47RS"
   },
   "source": [
    "# MODELLING"
   ]
  },
  {
   "cell_type": "code",
   "execution_count": 26,
   "metadata": {
    "id": "mqHYFiUkG-g5"
   },
   "outputs": [],
   "source": [
    "path = \"data/FoodPriceData\"\n",
    "food_price_data = spark.read.csv(path, inferSchema=True, header=True)"
   ]
  },
  {
   "cell_type": "code",
   "execution_count": 27,
   "metadata": {
    "colab": {
     "base_uri": "https://localhost:8080/"
    },
    "executionInfo": {
     "elapsed": 247,
     "status": "ok",
     "timestamp": 1744619226799,
     "user": {
      "displayName": "BRIAN OMONDI",
      "userId": "10412797874550437401"
     },
     "user_tz": -180
    },
    "id": "-zgCExo16PYw",
    "outputId": "4c804f29-ffb3-45e2-83f4-b19183e1f698"
   },
   "outputs": [
    {
     "name": "stdout",
     "output_type": "stream",
     "text": [
      "+----+-----+-------+--------+--------+------------------+-------------+-----+---------+------+---------------+----------------+--------------------+\n",
      "|year|month| region|  county|  market|          category|    commodity| unit|pricetype| price|avg_rainfall_mm|normalized_price|log_normalized_price|\n",
      "+----+-----+-------+--------+--------+------------------+-------------+-----+---------+------+---------------+----------------+--------------------+\n",
      "|2014|    1|  Coast| Mombasa| Mombasa|cereals and tubers|        Maize|   KG|Wholesale| 38.44|         259.33|           38.44|  3.6747805297344347|\n",
      "|2014|    1|  Coast| Mombasa| Mombasa|   pulses and nuts|        Beans|   KG|Wholesale| 79.99|         259.33|           79.99|  4.3943256902608985|\n",
      "|2014|    1|  Coast| Mombasa| Mombasa|   pulses and nuts|  Beans (dry)|90 KG|Wholesale|5738.0|         259.33|           63.76|   4.170688128809434|\n",
      "|2014|    1|Eastern|   Kitui|   Kitui|   pulses and nuts|  Beans (dry)|   KG|   Retail|  74.0|         259.33|            74.0|    4.31748811353631|\n",
      "|2014|    1|Eastern|Marsabit|Marsabit|cereals and tubers|Maize (white)|   KG|   Retail| 53.36|         259.33|           53.36|   3.995628589282943|\n",
      "+----+-----+-------+--------+--------+------------------+-------------+-----+---------+------+---------------+----------------+--------------------+\n",
      "only showing top 5 rows\n",
      "\n"
     ]
    }
   ],
   "source": [
    "food_price_data.show(5)"
   ]
  },
  {
   "cell_type": "code",
   "execution_count": 28,
   "metadata": {
    "id": "nnDt1jX-4v0K"
   },
   "outputs": [],
   "source": [
    "from pyspark.ml import Pipeline\n",
    "from pyspark.ml.feature import StringIndexer, VectorAssembler\n",
    "from pyspark.ml.regression import DecisionTreeRegressor\n",
    "from pyspark.ml.evaluation import RegressionEvaluator\n",
    "from pyspark.ml.tuning import ParamGridBuilder, CrossValidator\n",
    "from pyspark.ml import PipelineModel"
   ]
  },
  {
   "cell_type": "code",
   "execution_count": 29,
   "metadata": {
    "id": "XLI6D14QAw5r"
   },
   "outputs": [],
   "source": [
    "# Drop nulls from essential columns\n",
    "model_data = food_price_data.dropna(subset=[\n",
    "    \"region\", \"county\", \"market\", \"category\", \"commodity\", \"unit\", \"pricetype\",\n",
    "    \"log_normalized_price\", \"avg_rainfall_mm\"\n",
    "])\n"
   ]
  },
  {
   "cell_type": "code",
   "execution_count": 30,
   "metadata": {
    "id": "VO0fRqD0HsAa"
   },
   "outputs": [],
   "source": [
    "# Index categorical columns\n",
    "categorical_cols = [\"region\", \"county\", \"market\", \"category\", \"commodity\", \"unit\", \"pricetype\"]\n",
    "indexers = [StringIndexer(inputCol=col, outputCol=col+\"_indexed\", handleInvalid=\"keep\") for col in categorical_cols]"
   ]
  },
  {
   "cell_type": "code",
   "execution_count": 31,
   "metadata": {
    "id": "r3nRPXBd4vvC"
   },
   "outputs": [],
   "source": [
    "# Assemble features\n",
    "feature_cols = [col+\"_indexed\" for col in categorical_cols] + [\"month\", \"year\", \"avg_rainfall_mm\"]\n",
    "assembler = VectorAssembler(inputCols=feature_cols, outputCol=\"features\")"
   ]
  },
  {
   "cell_type": "code",
   "execution_count": 32,
   "metadata": {
    "id": "KDtAYJyn4vr6"
   },
   "outputs": [],
   "source": [
    "# Define model\n",
    "dt = DecisionTreeRegressor(featuresCol=\"features\", labelCol=\"log_normalized_price\")"
   ]
  },
  {
   "cell_type": "code",
   "execution_count": 33,
   "metadata": {
    "id": "FxfiNkoQ4vn8"
   },
   "outputs": [],
   "source": [
    "# Build pipeline\n",
    "pipeline = Pipeline(stages=indexers + [assembler, dt])"
   ]
  },
  {
   "cell_type": "code",
   "execution_count": 34,
   "metadata": {
    "id": "KN3imSJT4vlI"
   },
   "outputs": [],
   "source": [
    "# Split the data\n",
    "train_data, test_data = model_data.randomSplit([0.8, 0.2], seed=42)"
   ]
  },
  {
   "cell_type": "code",
   "execution_count": null,
   "metadata": {
    "id": "_y2AF7tLKVCp"
   },
   "outputs": [],
   "source": []
  },
  {
   "cell_type": "code",
   "execution_count": 35,
   "metadata": {
    "id": "g4ym6sW4TzC5"
   },
   "outputs": [],
   "source": [
    "# Evaluator\n",
    "evaluator = RegressionEvaluator(\n",
    "    labelCol=\"log_normalized_price\",\n",
    "    predictionCol=\"prediction\",\n",
    "    metricName=\"rmse\"\n",
    ")"
   ]
  },
  {
   "cell_type": "code",
   "execution_count": 36,
   "metadata": {
    "id": "HIWcqMfCTy3w"
   },
   "outputs": [],
   "source": [
    "# Cross-validation with updated param grid\n",
    "paramGrid = (\n",
    "    ParamGridBuilder()\n",
    "    .addGrid(dt.maxDepth, [5, 10])\n",
    "    .addGrid(dt.maxBins, [100])\n",
    "    .build()\n",
    ")\n",
    "\n",
    "cv = CrossValidator(\n",
    "    estimator=pipeline,\n",
    "    estimatorParamMaps=paramGrid,\n",
    "    evaluator=evaluator,\n",
    "    numFolds=3\n",
    ")"
   ]
  },
  {
   "cell_type": "code",
   "execution_count": 37,
   "metadata": {
    "id": "MC5aeVN_4viC"
   },
   "outputs": [],
   "source": [
    "# Train model with CV\n",
    "cv_model = cv.fit(train_data)"
   ]
  },
  {
   "cell_type": "code",
   "execution_count": 38,
   "metadata": {
    "id": "RgcNjbCm__4U"
   },
   "outputs": [],
   "source": [
    "# Predict\n",
    "predictions = cv_model.transform(test_data)"
   ]
  },
  {
   "cell_type": "code",
   "execution_count": null,
   "metadata": {
    "id": "Z-v9Y9Px__1w"
   },
   "outputs": [],
   "source": []
  },
  {
   "cell_type": "code",
   "execution_count": 39,
   "metadata": {
    "colab": {
     "base_uri": "https://localhost:8080/"
    },
    "executionInfo": {
     "elapsed": 298,
     "status": "ok",
     "timestamp": 1744619252756,
     "user": {
      "displayName": "BRIAN OMONDI",
      "userId": "10412797874550437401"
     },
     "user_tz": -180
    },
    "id": "2pFw623h__y_",
    "outputId": "58337cf1-deb6-4258-da86-8f7f2485715e"
   },
   "outputs": [
    {
     "name": "stdout",
     "output_type": "stream",
     "text": [
      "Cross-Validated RMSE: 0.24\n"
     ]
    }
   ],
   "source": [
    "# Evaluate\n",
    "rmse = evaluator.evaluate(predictions)\n",
    "print(f\"Cross-Validated RMSE: {rmse:.2f}\")"
   ]
  },
  {
   "cell_type": "code",
   "execution_count": null,
   "metadata": {
    "id": "kv3K9bhw__wn"
   },
   "outputs": [],
   "source": []
  },
  {
   "cell_type": "code",
   "execution_count": 40,
   "metadata": {
    "id": "vTkfBN2D__ud"
   },
   "outputs": [
    {
     "name": "stderr",
     "output_type": "stream",
     "text": [
      "                                                                                \r"
     ]
    }
   ],
   "source": [
    "# Save entire model pipeline\n",
    "cv_model.bestModel.write().overwrite().save(\"model/log_price_pipeline_model\")"
   ]
  }
 ],
 "metadata": {
  "colab": {
   "gpuType": "T4",
   "provenance": []
  },
  "kernelspec": {
   "display_name": "Python 3",
   "name": "python3"
  },
  "language_info": {
   "codemirror_mode": {
    "name": "ipython",
    "version": 3
   },
   "file_extension": ".py",
   "mimetype": "text/x-python",
   "name": "python",
   "nbconvert_exporter": "python",
   "pygments_lexer": "ipython3",
   "version": "3.12.1"
  }
 },
 "nbformat": 4,
 "nbformat_minor": 0
}

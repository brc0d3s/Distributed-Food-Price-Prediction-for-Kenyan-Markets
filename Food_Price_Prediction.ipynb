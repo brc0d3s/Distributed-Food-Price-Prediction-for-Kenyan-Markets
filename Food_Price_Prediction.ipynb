{
 "cells": [
  {
   "cell_type": "markdown",
   "metadata": {
    "id": "Hso8ISnMNLPo"
   },
   "source": [
    "# Food Price Data Source\n",
    "\n",
    "[WFP Food Prices Kenya Dataset](https://data.humdata.org/dataset/e0d3fba6-f9a2-45d7-b949-140c455197ff/resource/517ee1bf-2437-4f8c-aa1b-cb9925b9d437/download/wfp_food_prices_ken.csv)"
   ]
  },
  {
   "cell_type": "markdown",
   "metadata": {
    "id": "NTNavmO3NEJ0"
   },
   "source": [
    "# -------------------------------------------------------------------------------------------\n",
    "\n",
    "\n",
    "\n",
    "\n"
   ]
  },
  {
   "cell_type": "markdown",
   "metadata": {
    "id": "mYkCuqa7zc8I"
   },
   "source": [
    "# DATA CLEANING"
   ]
  },
  {
   "cell_type": "code",
   "execution_count": null,
   "metadata": {
    "colab": {
     "base_uri": "https://localhost:8080/"
    },
    "executionInfo": {
     "elapsed": 4214,
     "status": "ok",
     "timestamp": 1741068624948,
     "user": {
      "displayName": "BRIAN OMONDI",
      "userId": "10412797874550437401"
     },
     "user_tz": -180
    },
    "id": "6f60bLgH0t-0",
    "outputId": "086ce4b6-ba1c-4888-c7e9-71f4f21f0b46"
   },
   "outputs": [
    {
     "name": "stdout",
     "output_type": "stream",
     "text": [
      "Requirement already satisfied: pyspark in /usr/local/lib/python3.11/dist-packages (3.5.5)\n",
      "Requirement already satisfied: py4j==0.10.9.7 in /usr/local/lib/python3.11/dist-packages (from pyspark) (0.10.9.7)\n"
     ]
    }
   ],
   "source": [
    "%pip install pyspark"
   ]
  },
  {
   "cell_type": "code",
   "execution_count": null,
   "metadata": {
    "colab": {
     "base_uri": "https://localhost:8080/",
     "height": 35
    },
    "executionInfo": {
     "elapsed": 7106,
     "status": "ok",
     "timestamp": 1741069084965,
     "user": {
      "displayName": "BRIAN OMONDI",
      "userId": "10412797874550437401"
     },
     "user_tz": -180
    },
    "id": "2MDXVnTr2lGR",
    "outputId": "f2f0db19-32e8-4fca-f93a-423a3af98f7d"
   },
   "outputs": [
    {
     "name": "stderr",
     "output_type": "stream",
     "text": [
      "25/04/02 11:06:04 WARN Utils: Your hostname, codespaces-ebd91c resolves to a loopback address: 127.0.0.1; using 10.0.1.231 instead (on interface eth0)\n",
      "25/04/02 11:06:04 WARN Utils: Set SPARK_LOCAL_IP if you need to bind to another address\n",
      "Setting default log level to \"WARN\".\n",
      "To adjust logging level use sc.setLogLevel(newLevel). For SparkR, use setLogLevel(newLevel).\n",
      "25/04/02 11:06:05 WARN NativeCodeLoader: Unable to load native-hadoop library for your platform... using builtin-java classes where applicable\n",
      "25/04/02 11:06:06 WARN Utils: Service 'SparkUI' could not bind on port 4040. Attempting port 4041.\n",
      "25/04/02 11:06:06 WARN Utils: Service 'SparkUI' could not bind on port 4041. Attempting port 4042.\n"
     ]
    },
    {
     "data": {
      "text/plain": [
       "'FoodPricePrediction'"
      ]
     },
     "execution_count": 3,
     "metadata": {},
     "output_type": "execute_result"
    },
    {
     "name": "stderr",
     "output_type": "stream",
     "text": [
      "25/04/02 11:06:23 WARN GarbageCollectionMetrics: To enable non-built-in garbage collector(s) List(G1 Concurrent GC), users should configure it(them) to spark.eventLog.gcMetrics.youngGenerationGarbageCollectors or spark.eventLog.gcMetrics.oldGenerationGarbageCollectors\n"
     ]
    }
   ],
   "source": [
    "from pyspark.sql import SparkSession\n",
    "\n",
    "spark = SparkSession.builder.appName('FoodPricePrediction').master('local[*]').getOrCreate()\n",
    "\n",
    "spark.sparkContext.appName"
   ]
  },
  {
   "cell_type": "code",
   "execution_count": 8,
   "metadata": {
    "colab": {
     "base_uri": "https://localhost:8080/"
    },
    "executionInfo": {
     "elapsed": 1117,
     "status": "ok",
     "timestamp": 1741068655495,
     "user": {
      "displayName": "BRIAN OMONDI",
      "userId": "10412797874550437401"
     },
     "user_tz": -180
    },
    "id": "vavs4RxJ2d5l",
    "outputId": "3de52dc8-f502-4241-a739-b7dae22ec8bf"
   },
   "outputs": [
    {
     "name": "stdout",
     "output_type": "stream",
     "text": [
      "root\n",
      " |-- date: string (nullable = true)\n",
      " |-- admin1: string (nullable = true)\n",
      " |-- admin2: string (nullable = true)\n",
      " |-- market: string (nullable = true)\n",
      " |-- latitude: string (nullable = true)\n",
      " |-- longitude: string (nullable = true)\n",
      " |-- category: string (nullable = true)\n",
      " |-- commodity: string (nullable = true)\n",
      " |-- unit: string (nullable = true)\n",
      " |-- priceflag: string (nullable = true)\n",
      " |-- pricetype: string (nullable = true)\n",
      " |-- currency: string (nullable = true)\n",
      " |-- price: string (nullable = true)\n",
      " |-- usdprice: string (nullable = true)\n",
      "\n"
     ]
    }
   ],
   "source": [
    "data = spark.read.csv(\"drive/MyDrive/Distributed-Food-Price-Prediction-for-Kenyan-Markets/data/wfp_food_prices_ken.csv\",inferSchema=True,header=True)\n",
    "data.printSchema()"
   ]
  },
  {
   "cell_type": "code",
   "execution_count": 9,
   "metadata": {
    "colab": {
     "base_uri": "https://localhost:8080/"
    },
    "executionInfo": {
     "elapsed": 148,
     "status": "ok",
     "timestamp": 1741068668448,
     "user": {
      "displayName": "BRIAN OMONDI",
      "userId": "10412797874550437401"
     },
     "user_tz": -180
    },
    "id": "tL-ilcWx3_uu",
    "outputId": "bb7c1bce-dc46-4256-9c2b-beba99e8a1ab"
   },
   "outputs": [
    {
     "name": "stdout",
     "output_type": "stream",
     "text": [
      "+----------+----------+----------+----------------+--------+---------+------------------+-------------+----------+----------------+----------------+---------+------+----------+\n",
      "|      date|    admin1|    admin2|          market|latitude|longitude|          category|    commodity|      unit|       priceflag|       pricetype| currency| price|  usdprice|\n",
      "+----------+----------+----------+----------------+--------+---------+------------------+-------------+----------+----------------+----------------+---------+------+----------+\n",
      "|     #date|#adm1+name|#adm2+name|#loc+market+name|#geo+lat| #geo+lon|        #item+type|   #item+name|#item+unit|#item+price+flag|#item+price+type|#currency|#value|#value+usd|\n",
      "|2006-01-15|     Coast|   Mombasa|         Mombasa|   -4.05|39.666667|cereals and tubers|        Maize|        KG|          actual|       Wholesale|      KES| 16.13|    0.2235|\n",
      "|2006-01-15|     Coast|   Mombasa|         Mombasa|   -4.05|39.666667|cereals and tubers|Maize (white)|     90 KG|          actual|       Wholesale|      KES|1480.0|   20.5041|\n",
      "|2006-01-15|     Coast|   Mombasa|         Mombasa|   -4.05|39.666667|   pulses and nuts|        Beans|        KG|          actual|       Wholesale|      KES| 33.63|    0.4659|\n",
      "|2006-01-15|     Coast|   Mombasa|         Mombasa|   -4.05|39.666667|   pulses and nuts|  Beans (dry)|     90 KG|          actual|       Wholesale|      KES|3246.0|   44.9705|\n",
      "+----------+----------+----------+----------------+--------+---------+------------------+-------------+----------+----------------+----------------+---------+------+----------+\n",
      "only showing top 5 rows\n",
      "\n"
     ]
    }
   ],
   "source": [
    "data.show(5)"
   ]
  },
  {
   "cell_type": "code",
   "execution_count": null,
   "metadata": {
    "executionInfo": {
     "elapsed": 19,
     "status": "ok",
     "timestamp": 1741068670735,
     "user": {
      "displayName": "BRIAN OMONDI",
      "userId": "10412797874550437401"
     },
     "user_tz": -180
    },
    "id": "OP0V_wKgsa_3"
   },
   "outputs": [],
   "source": [
    "data1 = data.withColumnRenamed(\"admin1\", \"region\").withColumnRenamed(\"admin2\", \"county\")"
   ]
  },
  {
   "cell_type": "code",
   "execution_count": 11,
   "metadata": {
    "colab": {
     "base_uri": "https://localhost:8080/"
    },
    "executionInfo": {
     "elapsed": 74,
     "status": "ok",
     "timestamp": 1741068672836,
     "user": {
      "displayName": "BRIAN OMONDI",
      "userId": "10412797874550437401"
     },
     "user_tz": -180
    },
    "id": "BeQGGGlA0zIO",
    "outputId": "f1e8d8b3-06da-4f6e-c2f3-d7feed368d11"
   },
   "outputs": [
    {
     "name": "stdout",
     "output_type": "stream",
     "text": [
      "+----------+----------+----------+----------------+--------+---------+------------------+----------+----------+----------------+----------------+---------+------+----------+\n",
      "|      date|    region|    county|          market|latitude|longitude|          category| commodity|      unit|       priceflag|       pricetype| currency| price|  usdprice|\n",
      "+----------+----------+----------+----------------+--------+---------+------------------+----------+----------+----------------+----------------+---------+------+----------+\n",
      "|     #date|#adm1+name|#adm2+name|#loc+market+name|#geo+lat| #geo+lon|        #item+type|#item+name|#item+unit|#item+price+flag|#item+price+type|#currency|#value|#value+usd|\n",
      "|2006-01-15|     Coast|   Mombasa|         Mombasa|   -4.05|39.666667|cereals and tubers|     Maize|        KG|          actual|       Wholesale|      KES| 16.13|    0.2235|\n",
      "+----------+----------+----------+----------------+--------+---------+------------------+----------+----------+----------------+----------------+---------+------+----------+\n",
      "only showing top 2 rows\n",
      "\n"
     ]
    }
   ],
   "source": [
    "data1.show(2)"
   ]
  },
  {
   "cell_type": "code",
   "execution_count": null,
   "metadata": {
    "executionInfo": {
     "elapsed": 61,
     "status": "ok",
     "timestamp": 1741068675395,
     "user": {
      "displayName": "BRIAN OMONDI",
      "userId": "10412797874550437401"
     },
     "user_tz": -180
    },
    "id": "99FSsO41s9KL"
   },
   "outputs": [],
   "source": [
    "from pyspark.sql.functions import col, to_date\n",
    "from pyspark.sql.types import FloatType, DoubleType\n",
    "\n",
    "\n",
    "data2 = data1.withColumn(\"date\", to_date(col(\"date\"), \"yyyy-MM-dd\")) \\\n",
    "             .withColumn(\"latitude\", col(\"latitude\").cast(DoubleType())) \\\n",
    "             .withColumn(\"longitude\", col(\"longitude\").cast(DoubleType())) \\\n",
    "             .withColumn(\"price\", col(\"price\").cast(FloatType())) \\\n",
    "             .withColumn(\"usdprice\", col(\"usdprice\").cast(FloatType()))"
   ]
  },
  {
   "cell_type": "code",
   "execution_count": 13,
   "metadata": {
    "colab": {
     "base_uri": "https://localhost:8080/"
    },
    "executionInfo": {
     "elapsed": 12,
     "status": "ok",
     "timestamp": 1741068678308,
     "user": {
      "displayName": "BRIAN OMONDI",
      "userId": "10412797874550437401"
     },
     "user_tz": -180
    },
    "id": "XogfnZEVrPM4",
    "outputId": "695ab25d-81ba-4f57-b984-479b1df454ba"
   },
   "outputs": [
    {
     "name": "stdout",
     "output_type": "stream",
     "text": [
      "root\n",
      " |-- date: date (nullable = true)\n",
      " |-- region: string (nullable = true)\n",
      " |-- county: string (nullable = true)\n",
      " |-- market: string (nullable = true)\n",
      " |-- latitude: double (nullable = true)\n",
      " |-- longitude: double (nullable = true)\n",
      " |-- category: string (nullable = true)\n",
      " |-- commodity: string (nullable = true)\n",
      " |-- unit: string (nullable = true)\n",
      " |-- priceflag: string (nullable = true)\n",
      " |-- pricetype: string (nullable = true)\n",
      " |-- currency: string (nullable = true)\n",
      " |-- price: float (nullable = true)\n",
      " |-- usdprice: float (nullable = true)\n",
      "\n"
     ]
    }
   ],
   "source": [
    "data2.printSchema()"
   ]
  },
  {
   "cell_type": "code",
   "execution_count": null,
   "metadata": {
    "colab": {
     "base_uri": "https://localhost:8080/"
    },
    "executionInfo": {
     "elapsed": 277,
     "status": "ok",
     "timestamp": 1741068681523,
     "user": {
      "displayName": "BRIAN OMONDI",
      "userId": "10412797874550437401"
     },
     "user_tz": -180
    },
    "id": "pJaezsTHCGMZ",
    "outputId": "bebaa381-89ec-45c1-ab8a-f1f8c331749b"
   },
   "outputs": [
    {
     "data": {
      "text/plain": [
       "(12865, 14)"
      ]
     },
     "execution_count": 14,
     "metadata": {},
     "output_type": "execute_result"
    }
   ],
   "source": [
    "data2.count(), len(data2.columns)"
   ]
  },
  {
   "cell_type": "code",
   "execution_count": null,
   "metadata": {
    "colab": {
     "base_uri": "https://localhost:8080/"
    },
    "executionInfo": {
     "elapsed": 781,
     "status": "ok",
     "timestamp": 1741068685312,
     "user": {
      "displayName": "BRIAN OMONDI",
      "userId": "10412797874550437401"
     },
     "user_tz": -180
    },
    "id": "9MfkJJaMCLg3",
    "outputId": "2b5a2fb2-0fc3-4085-cb4e-92756b9bf41c"
   },
   "outputs": [
    {
     "name": "stdout",
     "output_type": "stream",
     "text": [
      "+----+------+------+------+--------+---------+--------+---------+----+---------+---------+--------+-----+--------+\n",
      "|date|region|county|market|latitude|longitude|category|commodity|unit|priceflag|pricetype|currency|price|usdprice|\n",
      "+----+------+------+------+--------+---------+--------+---------+----+---------+---------+--------+-----+--------+\n",
      "|   1|    40|    40|     0|      41|       41|       0|        0|   0|        0|        0|       0|    1|       1|\n",
      "+----+------+------+------+--------+---------+--------+---------+----+---------+---------+--------+-----+--------+\n",
      "\n"
     ]
    }
   ],
   "source": [
    "from pyspark.sql.functions import col, sum\n",
    "\n",
    "\n",
    "null_counts = data2.select([sum(col(c).isNull().cast(\"int\")).alias(c) for c in data2.columns])\n",
    "null_counts.show()"
   ]
  },
  {
   "cell_type": "code",
   "execution_count": null,
   "metadata": {
    "executionInfo": {
     "elapsed": 50,
     "status": "ok",
     "timestamp": 1741068692826,
     "user": {
      "displayName": "BRIAN OMONDI",
      "userId": "10412797874550437401"
     },
     "user_tz": -180
    },
    "id": "fhy7zU-nCMsE"
   },
   "outputs": [],
   "source": [
    "data_clean = data2.dropna()"
   ]
  },
  {
   "cell_type": "code",
   "execution_count": null,
   "metadata": {
    "colab": {
     "base_uri": "https://localhost:8080/"
    },
    "executionInfo": {
     "elapsed": 336,
     "status": "ok",
     "timestamp": 1741068696064,
     "user": {
      "displayName": "BRIAN OMONDI",
      "userId": "10412797874550437401"
     },
     "user_tz": -180
    },
    "id": "RpinGLzrCY10",
    "outputId": "61af13bf-998a-4f64-e21f-69690324393a"
   },
   "outputs": [
    {
     "data": {
      "text/plain": [
       "(12824, 14)"
      ]
     },
     "execution_count": 17,
     "metadata": {},
     "output_type": "execute_result"
    }
   ],
   "source": [
    "data_clean.count(), len(data_clean.columns)"
   ]
  },
  {
   "cell_type": "code",
   "execution_count": null,
   "metadata": {
    "executionInfo": {
     "elapsed": 1126,
     "status": "ok",
     "timestamp": 1741068699287,
     "user": {
      "displayName": "BRIAN OMONDI",
      "userId": "10412797874550437401"
     },
     "user_tz": -180
    },
    "id": "ApnfDigEueS3"
   },
   "outputs": [],
   "source": [
    "output_path = \"drive/MyDrive/Distributed-Food-Price-Prediction-for-Kenyan-Markets/data/cleaned_data.csv\"\n",
    "data_clean.write.csv(output_path, header=True)"
   ]
  },
  {
   "cell_type": "code",
   "execution_count": null,
   "metadata": {
    "id": "sxLoD5TzCVl4"
   },
   "outputs": [],
   "source": []
  },
  {
   "cell_type": "code",
   "execution_count": null,
   "metadata": {
    "id": "uYd67N08CVYq"
   },
   "outputs": [],
   "source": []
  },
  {
   "cell_type": "code",
   "execution_count": null,
   "metadata": {
    "id": "b5ZP4m4wCVMy"
   },
   "outputs": [],
   "source": []
  },
  {
   "cell_type": "code",
   "execution_count": null,
   "metadata": {
    "id": "MAkV8Ut34-vA"
   },
   "outputs": [],
   "source": []
  },
  {
   "cell_type": "code",
   "execution_count": null,
   "metadata": {
    "id": "XZAcMzSX4-m4"
   },
   "outputs": [],
   "source": []
  },
  {
   "cell_type": "code",
   "execution_count": null,
   "metadata": {
    "id": "DejnIObh4-e2"
   },
   "outputs": [],
   "source": []
  },
  {
   "cell_type": "code",
   "execution_count": null,
   "metadata": {
    "id": "tquIxQzk4-af"
   },
   "outputs": [],
   "source": []
  },
  {
   "cell_type": "code",
   "execution_count": null,
   "metadata": {
    "id": "rID9vtnOueI7"
   },
   "outputs": [],
   "source": []
  },
  {
   "cell_type": "markdown",
   "metadata": {
    "id": "35ubfEvC47RS"
   },
   "source": [
    "# MODELLING"
   ]
  },
  {
   "cell_type": "code",
   "execution_count": 1,
   "metadata": {
    "executionInfo": {
     "elapsed": 42,
     "status": "ok",
     "timestamp": 1741071985190,
     "user": {
      "displayName": "BRIAN OMONDI",
      "userId": "10412797874550437401"
     },
     "user_tz": -180
    },
    "id": "s1ECczp-45DU"
   },
   "outputs": [],
   "source": [
    "from pyspark.ml.feature import StringIndexer, VectorAssembler\n",
    "from pyspark.ml.regression import RandomForestRegressor, GBTRegressor, LinearRegression\n",
    "from pyspark.ml.evaluation import RegressionEvaluator\n",
    "from pyspark.ml.tuning import CrossValidator, ParamGridBuilder\n",
    "from pyspark.ml import Pipeline"
   ]
  },
  {
   "cell_type": "code",
   "execution_count": 5,
   "metadata": {
    "executionInfo": {
     "elapsed": 254,
     "status": "ok",
     "timestamp": 1741071987462,
     "user": {
      "displayName": "BRIAN OMONDI",
      "userId": "10412797874550437401"
     },
     "user_tz": -180
    },
    "id": "mqHYFiUkG-g5"
   },
   "outputs": [
    {
     "name": "stderr",
     "output_type": "stream",
     "text": [
      "                                                                                \r"
     ]
    }
   ],
   "source": [
    "path = \"data/cleaned_data.csv\"\n",
    "food_data = spark.read.csv(path, inferSchema=True, header=True)"
   ]
  },
  {
   "cell_type": "code",
   "execution_count": 6,
   "metadata": {
    "executionInfo": {
     "elapsed": 13,
     "status": "ok",
     "timestamp": 1741071989606,
     "user": {
      "displayName": "BRIAN OMONDI",
      "userId": "10412797874550437401"
     },
     "user_tz": -180
    },
    "id": "nnDt1jX-4v0K"
   },
   "outputs": [],
   "source": [
    "feature_cols = ['region', 'county', 'market', 'category', 'commodity', 'unit']"
   ]
  },
  {
   "cell_type": "code",
   "execution_count": 7,
   "metadata": {
    "executionInfo": {
     "elapsed": 73,
     "status": "ok",
     "timestamp": 1741071992320,
     "user": {
      "displayName": "BRIAN OMONDI",
      "userId": "10412797874550437401"
     },
     "user_tz": -180
    },
    "id": "uFH3ER-X4vxp"
   },
   "outputs": [],
   "source": [
    "indexers = [StringIndexer(inputCol=col, outputCol=f\"{col}_index\", handleInvalid='keep') for col in feature_cols]"
   ]
  },
  {
   "cell_type": "code",
   "execution_count": 8,
   "metadata": {
    "executionInfo": {
     "elapsed": 21,
     "status": "ok",
     "timestamp": 1741071994846,
     "user": {
      "displayName": "BRIAN OMONDI",
      "userId": "10412797874550437401"
     },
     "user_tz": -180
    },
    "id": "r3nRPXBd4vvC"
   },
   "outputs": [],
   "source": [
    "assembler = VectorAssembler(inputCols=[f\"{col}_index\" for col in feature_cols] + ['latitude', 'longitude'],\n",
    "                            outputCol='features', handleInvalid='skip')"
   ]
  },
  {
   "cell_type": "code",
   "execution_count": 9,
   "metadata": {
    "executionInfo": {
     "elapsed": 9,
     "status": "ok",
     "timestamp": 1741071998057,
     "user": {
      "displayName": "BRIAN OMONDI",
      "userId": "10412797874550437401"
     },
     "user_tz": -180
    },
    "id": "KDtAYJyn4vr6"
   },
   "outputs": [],
   "source": [
    "models = {\n",
    "    'RandomForest': RandomForestRegressor(featuresCol='features', labelCol='usdprice', maxBins=100, numTrees=50),\n",
    "    'GradientBoostedTree': GBTRegressor(featuresCol='features', labelCol='usdprice', maxBins=100),\n",
    "    'LinearRegression': LinearRegression(featuresCol='features', labelCol='usdprice')\n",
    "}"
   ]
  },
  {
   "cell_type": "code",
   "execution_count": 10,
   "metadata": {
    "executionInfo": {
     "elapsed": 14,
     "status": "ok",
     "timestamp": 1741072000788,
     "user": {
      "displayName": "BRIAN OMONDI",
      "userId": "10412797874550437401"
     },
     "user_tz": -180
    },
    "id": "FxfiNkoQ4vn8"
   },
   "outputs": [],
   "source": [
    "train_data, test_data = food_data.randomSplit([0.8, 0.2], seed=42)"
   ]
  },
  {
   "cell_type": "code",
   "execution_count": 11,
   "metadata": {
    "colab": {
     "base_uri": "https://localhost:8080/"
    },
    "executionInfo": {
     "elapsed": 77552,
     "status": "ok",
     "timestamp": 1741072083124,
     "user": {
      "displayName": "BRIAN OMONDI",
      "userId": "10412797874550437401"
     },
     "user_tz": -180
    },
    "id": "KN3imSJT4vlI",
    "outputId": "4b0b2714-74bd-49af-874b-bdc119ddaa5b"
   },
   "outputs": [
    {
     "name": "stderr",
     "output_type": "stream",
     "text": [
      "                                                                                \r"
     ]
    },
    {
     "name": "stdout",
     "output_type": "stream",
     "text": [
      "RandomForest RMSE: 8.132408816549402\n"
     ]
    },
    {
     "name": "stderr",
     "output_type": "stream",
     "text": [
      "25/04/02 11:07:56 WARN InstanceBuilder: Failed to load implementation from:dev.ludovic.netlib.blas.JNIBLAS\n",
      "25/04/02 11:07:56 WARN InstanceBuilder: Failed to load implementation from:dev.ludovic.netlib.blas.VectorBLAS\n",
      "ERROR:root:KeyboardInterrupt while sending command.\n",
      "Traceback (most recent call last):\n",
      "  File \"/usr/local/python/3.12.1/lib/python3.12/site-packages/py4j/java_gateway.py\", line 1038, in send_command\n",
      "    response = connection.send_command(command)\n",
      "               ^^^^^^^^^^^^^^^^^^^^^^^^^^^^^^^^\n",
      "  File \"/usr/local/python/3.12.1/lib/python3.12/site-packages/py4j/clientserver.py\", line 511, in send_command\n",
      "    answer = smart_decode(self.stream.readline()[:-1])\n",
      "                          ^^^^^^^^^^^^^^^^^^^^^^\n",
      "  File \"/usr/local/python/3.12.1/lib/python3.12/socket.py\", line 707, in readinto\n",
      "    return self._sock.recv_into(b)\n",
      "           ^^^^^^^^^^^^^^^^^^^^^^^\n",
      "KeyboardInterrupt\n"
     ]
    },
    {
     "ename": "KeyboardInterrupt",
     "evalue": "",
     "output_type": "error",
     "traceback": [
      "\u001b[0;31m---------------------------------------------------------------------------\u001b[0m",
      "\u001b[0;31mKeyboardInterrupt\u001b[0m                         Traceback (most recent call last)",
      "Cell \u001b[0;32mIn[11], line 16\u001b[0m\n\u001b[1;32m     10\u001b[0m crossval \u001b[38;5;241m=\u001b[39m CrossValidator(estimator\u001b[38;5;241m=\u001b[39mpipeline,\n\u001b[1;32m     11\u001b[0m                           estimatorParamMaps\u001b[38;5;241m=\u001b[39mparamGrid,\n\u001b[1;32m     12\u001b[0m                           evaluator\u001b[38;5;241m=\u001b[39mRegressionEvaluator(labelCol\u001b[38;5;241m=\u001b[39m\u001b[38;5;124m'\u001b[39m\u001b[38;5;124musdprice\u001b[39m\u001b[38;5;124m'\u001b[39m, predictionCol\u001b[38;5;241m=\u001b[39m\u001b[38;5;124m'\u001b[39m\u001b[38;5;124mprediction\u001b[39m\u001b[38;5;124m'\u001b[39m, metricName\u001b[38;5;241m=\u001b[39m\u001b[38;5;124m'\u001b[39m\u001b[38;5;124mrmse\u001b[39m\u001b[38;5;124m'\u001b[39m),\n\u001b[1;32m     13\u001b[0m                           numFolds\u001b[38;5;241m=\u001b[39m\u001b[38;5;241m5\u001b[39m)\n\u001b[1;32m     15\u001b[0m \u001b[38;5;28;01mtry\u001b[39;00m:\n\u001b[0;32m---> 16\u001b[0m     cv_model \u001b[38;5;241m=\u001b[39m \u001b[43mcrossval\u001b[49m\u001b[38;5;241;43m.\u001b[39;49m\u001b[43mfit\u001b[49m\u001b[43m(\u001b[49m\u001b[43mtrain_data\u001b[49m\u001b[43m)\u001b[49m\n\u001b[1;32m     17\u001b[0m     predictions \u001b[38;5;241m=\u001b[39m cv_model\u001b[38;5;241m.\u001b[39mtransform(test_data)\n\u001b[1;32m     18\u001b[0m     rmse \u001b[38;5;241m=\u001b[39m RegressionEvaluator(labelCol\u001b[38;5;241m=\u001b[39m\u001b[38;5;124m'\u001b[39m\u001b[38;5;124musdprice\u001b[39m\u001b[38;5;124m'\u001b[39m, predictionCol\u001b[38;5;241m=\u001b[39m\u001b[38;5;124m'\u001b[39m\u001b[38;5;124mprediction\u001b[39m\u001b[38;5;124m'\u001b[39m, metricName\u001b[38;5;241m=\u001b[39m\u001b[38;5;124m'\u001b[39m\u001b[38;5;124mrmse\u001b[39m\u001b[38;5;124m'\u001b[39m)\u001b[38;5;241m.\u001b[39mevaluate(predictions)\n",
      "File \u001b[0;32m/usr/local/python/3.12.1/lib/python3.12/site-packages/pyspark/ml/base.py:205\u001b[0m, in \u001b[0;36mEstimator.fit\u001b[0;34m(self, dataset, params)\u001b[0m\n\u001b[1;32m    203\u001b[0m         \u001b[38;5;28;01mreturn\u001b[39;00m \u001b[38;5;28mself\u001b[39m\u001b[38;5;241m.\u001b[39mcopy(params)\u001b[38;5;241m.\u001b[39m_fit(dataset)\n\u001b[1;32m    204\u001b[0m     \u001b[38;5;28;01melse\u001b[39;00m:\n\u001b[0;32m--> 205\u001b[0m         \u001b[38;5;28;01mreturn\u001b[39;00m \u001b[38;5;28;43mself\u001b[39;49m\u001b[38;5;241;43m.\u001b[39;49m\u001b[43m_fit\u001b[49m\u001b[43m(\u001b[49m\u001b[43mdataset\u001b[49m\u001b[43m)\u001b[49m\n\u001b[1;32m    206\u001b[0m \u001b[38;5;28;01melse\u001b[39;00m:\n\u001b[1;32m    207\u001b[0m     \u001b[38;5;28;01mraise\u001b[39;00m \u001b[38;5;167;01mTypeError\u001b[39;00m(\n\u001b[1;32m    208\u001b[0m         \u001b[38;5;124m\"\u001b[39m\u001b[38;5;124mParams must be either a param map or a list/tuple of param maps, \u001b[39m\u001b[38;5;124m\"\u001b[39m\n\u001b[1;32m    209\u001b[0m         \u001b[38;5;124m\"\u001b[39m\u001b[38;5;124mbut got \u001b[39m\u001b[38;5;132;01m%s\u001b[39;00m\u001b[38;5;124m.\u001b[39m\u001b[38;5;124m\"\u001b[39m \u001b[38;5;241m%\u001b[39m \u001b[38;5;28mtype\u001b[39m(params)\n\u001b[1;32m    210\u001b[0m     )\n",
      "File \u001b[0;32m/usr/local/python/3.12.1/lib/python3.12/site-packages/pyspark/ml/tuning.py:862\u001b[0m, in \u001b[0;36mCrossValidator._fit\u001b[0;34m(self, dataset)\u001b[0m\n\u001b[1;32m    860\u001b[0m \u001b[38;5;28;01melse\u001b[39;00m:\n\u001b[1;32m    861\u001b[0m     bestIndex \u001b[38;5;241m=\u001b[39m np\u001b[38;5;241m.\u001b[39margmin(metrics)\n\u001b[0;32m--> 862\u001b[0m bestModel \u001b[38;5;241m=\u001b[39m \u001b[43mest\u001b[49m\u001b[38;5;241;43m.\u001b[39;49m\u001b[43mfit\u001b[49m\u001b[43m(\u001b[49m\u001b[43mdataset\u001b[49m\u001b[43m,\u001b[49m\u001b[43m \u001b[49m\u001b[43mepm\u001b[49m\u001b[43m[\u001b[49m\u001b[43mbestIndex\u001b[49m\u001b[43m]\u001b[49m\u001b[43m)\u001b[49m\n\u001b[1;32m    863\u001b[0m \u001b[38;5;28;01mreturn\u001b[39;00m \u001b[38;5;28mself\u001b[39m\u001b[38;5;241m.\u001b[39m_copyValues(\n\u001b[1;32m    864\u001b[0m     CrossValidatorModel(bestModel, metrics, cast(List[List[Model]], subModels), std_metrics)\n\u001b[1;32m    865\u001b[0m )\n",
      "File \u001b[0;32m/usr/local/python/3.12.1/lib/python3.12/site-packages/pyspark/ml/base.py:205\u001b[0m, in \u001b[0;36mEstimator.fit\u001b[0;34m(self, dataset, params)\u001b[0m\n\u001b[1;32m    203\u001b[0m         \u001b[38;5;28;01mreturn\u001b[39;00m \u001b[38;5;28mself\u001b[39m\u001b[38;5;241m.\u001b[39mcopy(params)\u001b[38;5;241m.\u001b[39m_fit(dataset)\n\u001b[1;32m    204\u001b[0m     \u001b[38;5;28;01melse\u001b[39;00m:\n\u001b[0;32m--> 205\u001b[0m         \u001b[38;5;28;01mreturn\u001b[39;00m \u001b[38;5;28;43mself\u001b[39;49m\u001b[38;5;241;43m.\u001b[39;49m\u001b[43m_fit\u001b[49m\u001b[43m(\u001b[49m\u001b[43mdataset\u001b[49m\u001b[43m)\u001b[49m\n\u001b[1;32m    206\u001b[0m \u001b[38;5;28;01melse\u001b[39;00m:\n\u001b[1;32m    207\u001b[0m     \u001b[38;5;28;01mraise\u001b[39;00m \u001b[38;5;167;01mTypeError\u001b[39;00m(\n\u001b[1;32m    208\u001b[0m         \u001b[38;5;124m\"\u001b[39m\u001b[38;5;124mParams must be either a param map or a list/tuple of param maps, \u001b[39m\u001b[38;5;124m\"\u001b[39m\n\u001b[1;32m    209\u001b[0m         \u001b[38;5;124m\"\u001b[39m\u001b[38;5;124mbut got \u001b[39m\u001b[38;5;132;01m%s\u001b[39;00m\u001b[38;5;124m.\u001b[39m\u001b[38;5;124m\"\u001b[39m \u001b[38;5;241m%\u001b[39m \u001b[38;5;28mtype\u001b[39m(params)\n\u001b[1;32m    210\u001b[0m     )\n",
      "File \u001b[0;32m/usr/local/python/3.12.1/lib/python3.12/site-packages/pyspark/ml/pipeline.py:134\u001b[0m, in \u001b[0;36mPipeline._fit\u001b[0;34m(self, dataset)\u001b[0m\n\u001b[1;32m    132\u001b[0m     dataset \u001b[38;5;241m=\u001b[39m stage\u001b[38;5;241m.\u001b[39mtransform(dataset)\n\u001b[1;32m    133\u001b[0m \u001b[38;5;28;01melse\u001b[39;00m:  \u001b[38;5;66;03m# must be an Estimator\u001b[39;00m\n\u001b[0;32m--> 134\u001b[0m     model \u001b[38;5;241m=\u001b[39m \u001b[43mstage\u001b[49m\u001b[38;5;241;43m.\u001b[39;49m\u001b[43mfit\u001b[49m\u001b[43m(\u001b[49m\u001b[43mdataset\u001b[49m\u001b[43m)\u001b[49m\n\u001b[1;32m    135\u001b[0m     transformers\u001b[38;5;241m.\u001b[39mappend(model)\n\u001b[1;32m    136\u001b[0m     \u001b[38;5;28;01mif\u001b[39;00m i \u001b[38;5;241m<\u001b[39m indexOfLastEstimator:\n",
      "File \u001b[0;32m/usr/local/python/3.12.1/lib/python3.12/site-packages/pyspark/ml/base.py:205\u001b[0m, in \u001b[0;36mEstimator.fit\u001b[0;34m(self, dataset, params)\u001b[0m\n\u001b[1;32m    203\u001b[0m         \u001b[38;5;28;01mreturn\u001b[39;00m \u001b[38;5;28mself\u001b[39m\u001b[38;5;241m.\u001b[39mcopy(params)\u001b[38;5;241m.\u001b[39m_fit(dataset)\n\u001b[1;32m    204\u001b[0m     \u001b[38;5;28;01melse\u001b[39;00m:\n\u001b[0;32m--> 205\u001b[0m         \u001b[38;5;28;01mreturn\u001b[39;00m \u001b[38;5;28;43mself\u001b[39;49m\u001b[38;5;241;43m.\u001b[39;49m\u001b[43m_fit\u001b[49m\u001b[43m(\u001b[49m\u001b[43mdataset\u001b[49m\u001b[43m)\u001b[49m\n\u001b[1;32m    206\u001b[0m \u001b[38;5;28;01melse\u001b[39;00m:\n\u001b[1;32m    207\u001b[0m     \u001b[38;5;28;01mraise\u001b[39;00m \u001b[38;5;167;01mTypeError\u001b[39;00m(\n\u001b[1;32m    208\u001b[0m         \u001b[38;5;124m\"\u001b[39m\u001b[38;5;124mParams must be either a param map or a list/tuple of param maps, \u001b[39m\u001b[38;5;124m\"\u001b[39m\n\u001b[1;32m    209\u001b[0m         \u001b[38;5;124m\"\u001b[39m\u001b[38;5;124mbut got \u001b[39m\u001b[38;5;132;01m%s\u001b[39;00m\u001b[38;5;124m.\u001b[39m\u001b[38;5;124m\"\u001b[39m \u001b[38;5;241m%\u001b[39m \u001b[38;5;28mtype\u001b[39m(params)\n\u001b[1;32m    210\u001b[0m     )\n",
      "File \u001b[0;32m/usr/local/python/3.12.1/lib/python3.12/site-packages/pyspark/ml/wrapper.py:381\u001b[0m, in \u001b[0;36mJavaEstimator._fit\u001b[0;34m(self, dataset)\u001b[0m\n\u001b[1;32m    380\u001b[0m \u001b[38;5;28;01mdef\u001b[39;00m \u001b[38;5;21m_fit\u001b[39m(\u001b[38;5;28mself\u001b[39m, dataset: DataFrame) \u001b[38;5;241m-\u001b[39m\u001b[38;5;241m>\u001b[39m JM:\n\u001b[0;32m--> 381\u001b[0m     java_model \u001b[38;5;241m=\u001b[39m \u001b[38;5;28;43mself\u001b[39;49m\u001b[38;5;241;43m.\u001b[39;49m\u001b[43m_fit_java\u001b[49m\u001b[43m(\u001b[49m\u001b[43mdataset\u001b[49m\u001b[43m)\u001b[49m\n\u001b[1;32m    382\u001b[0m     model \u001b[38;5;241m=\u001b[39m \u001b[38;5;28mself\u001b[39m\u001b[38;5;241m.\u001b[39m_create_model(java_model)\n\u001b[1;32m    383\u001b[0m     \u001b[38;5;28;01mreturn\u001b[39;00m \u001b[38;5;28mself\u001b[39m\u001b[38;5;241m.\u001b[39m_copyValues(model)\n",
      "File \u001b[0;32m/usr/local/python/3.12.1/lib/python3.12/site-packages/pyspark/ml/wrapper.py:378\u001b[0m, in \u001b[0;36mJavaEstimator._fit_java\u001b[0;34m(self, dataset)\u001b[0m\n\u001b[1;32m    375\u001b[0m \u001b[38;5;28;01massert\u001b[39;00m \u001b[38;5;28mself\u001b[39m\u001b[38;5;241m.\u001b[39m_java_obj \u001b[38;5;129;01mis\u001b[39;00m \u001b[38;5;129;01mnot\u001b[39;00m \u001b[38;5;28;01mNone\u001b[39;00m\n\u001b[1;32m    377\u001b[0m \u001b[38;5;28mself\u001b[39m\u001b[38;5;241m.\u001b[39m_transfer_params_to_java()\n\u001b[0;32m--> 378\u001b[0m \u001b[38;5;28;01mreturn\u001b[39;00m \u001b[38;5;28;43mself\u001b[39;49m\u001b[38;5;241;43m.\u001b[39;49m\u001b[43m_java_obj\u001b[49m\u001b[38;5;241;43m.\u001b[39;49m\u001b[43mfit\u001b[49m\u001b[43m(\u001b[49m\u001b[43mdataset\u001b[49m\u001b[38;5;241;43m.\u001b[39;49m\u001b[43m_jdf\u001b[49m\u001b[43m)\u001b[49m\n",
      "File \u001b[0;32m/usr/local/python/3.12.1/lib/python3.12/site-packages/py4j/java_gateway.py:1321\u001b[0m, in \u001b[0;36mJavaMember.__call__\u001b[0;34m(self, *args)\u001b[0m\n\u001b[1;32m   1314\u001b[0m args_command, temp_args \u001b[38;5;241m=\u001b[39m \u001b[38;5;28mself\u001b[39m\u001b[38;5;241m.\u001b[39m_build_args(\u001b[38;5;241m*\u001b[39margs)\n\u001b[1;32m   1316\u001b[0m command \u001b[38;5;241m=\u001b[39m proto\u001b[38;5;241m.\u001b[39mCALL_COMMAND_NAME \u001b[38;5;241m+\u001b[39m\\\n\u001b[1;32m   1317\u001b[0m     \u001b[38;5;28mself\u001b[39m\u001b[38;5;241m.\u001b[39mcommand_header \u001b[38;5;241m+\u001b[39m\\\n\u001b[1;32m   1318\u001b[0m     args_command \u001b[38;5;241m+\u001b[39m\\\n\u001b[1;32m   1319\u001b[0m     proto\u001b[38;5;241m.\u001b[39mEND_COMMAND_PART\n\u001b[0;32m-> 1321\u001b[0m answer \u001b[38;5;241m=\u001b[39m \u001b[38;5;28;43mself\u001b[39;49m\u001b[38;5;241;43m.\u001b[39;49m\u001b[43mgateway_client\u001b[49m\u001b[38;5;241;43m.\u001b[39;49m\u001b[43msend_command\u001b[49m\u001b[43m(\u001b[49m\u001b[43mcommand\u001b[49m\u001b[43m)\u001b[49m\n\u001b[1;32m   1322\u001b[0m return_value \u001b[38;5;241m=\u001b[39m get_return_value(\n\u001b[1;32m   1323\u001b[0m     answer, \u001b[38;5;28mself\u001b[39m\u001b[38;5;241m.\u001b[39mgateway_client, \u001b[38;5;28mself\u001b[39m\u001b[38;5;241m.\u001b[39mtarget_id, \u001b[38;5;28mself\u001b[39m\u001b[38;5;241m.\u001b[39mname)\n\u001b[1;32m   1325\u001b[0m \u001b[38;5;28;01mfor\u001b[39;00m temp_arg \u001b[38;5;129;01min\u001b[39;00m temp_args:\n",
      "File \u001b[0;32m/usr/local/python/3.12.1/lib/python3.12/site-packages/py4j/java_gateway.py:1038\u001b[0m, in \u001b[0;36mGatewayClient.send_command\u001b[0;34m(self, command, retry, binary)\u001b[0m\n\u001b[1;32m   1036\u001b[0m connection \u001b[38;5;241m=\u001b[39m \u001b[38;5;28mself\u001b[39m\u001b[38;5;241m.\u001b[39m_get_connection()\n\u001b[1;32m   1037\u001b[0m \u001b[38;5;28;01mtry\u001b[39;00m:\n\u001b[0;32m-> 1038\u001b[0m     response \u001b[38;5;241m=\u001b[39m \u001b[43mconnection\u001b[49m\u001b[38;5;241;43m.\u001b[39;49m\u001b[43msend_command\u001b[49m\u001b[43m(\u001b[49m\u001b[43mcommand\u001b[49m\u001b[43m)\u001b[49m\n\u001b[1;32m   1039\u001b[0m     \u001b[38;5;28;01mif\u001b[39;00m binary:\n\u001b[1;32m   1040\u001b[0m         \u001b[38;5;28;01mreturn\u001b[39;00m response, \u001b[38;5;28mself\u001b[39m\u001b[38;5;241m.\u001b[39m_create_connection_guard(connection)\n",
      "File \u001b[0;32m/usr/local/python/3.12.1/lib/python3.12/site-packages/py4j/clientserver.py:511\u001b[0m, in \u001b[0;36mClientServerConnection.send_command\u001b[0;34m(self, command)\u001b[0m\n\u001b[1;32m    509\u001b[0m \u001b[38;5;28;01mtry\u001b[39;00m:\n\u001b[1;32m    510\u001b[0m     \u001b[38;5;28;01mwhile\u001b[39;00m \u001b[38;5;28;01mTrue\u001b[39;00m:\n\u001b[0;32m--> 511\u001b[0m         answer \u001b[38;5;241m=\u001b[39m smart_decode(\u001b[38;5;28;43mself\u001b[39;49m\u001b[38;5;241;43m.\u001b[39;49m\u001b[43mstream\u001b[49m\u001b[38;5;241;43m.\u001b[39;49m\u001b[43mreadline\u001b[49m\u001b[43m(\u001b[49m\u001b[43m)\u001b[49m[:\u001b[38;5;241m-\u001b[39m\u001b[38;5;241m1\u001b[39m])\n\u001b[1;32m    512\u001b[0m         logger\u001b[38;5;241m.\u001b[39mdebug(\u001b[38;5;124m\"\u001b[39m\u001b[38;5;124mAnswer received: \u001b[39m\u001b[38;5;132;01m{0}\u001b[39;00m\u001b[38;5;124m\"\u001b[39m\u001b[38;5;241m.\u001b[39mformat(answer))\n\u001b[1;32m    513\u001b[0m         \u001b[38;5;66;03m# Happens when a the other end is dead. There might be an empty\u001b[39;00m\n\u001b[1;32m    514\u001b[0m         \u001b[38;5;66;03m# answer before the socket raises an error.\u001b[39;00m\n",
      "File \u001b[0;32m/usr/local/python/3.12.1/lib/python3.12/socket.py:707\u001b[0m, in \u001b[0;36mSocketIO.readinto\u001b[0;34m(self, b)\u001b[0m\n\u001b[1;32m    705\u001b[0m \u001b[38;5;28;01mwhile\u001b[39;00m \u001b[38;5;28;01mTrue\u001b[39;00m:\n\u001b[1;32m    706\u001b[0m     \u001b[38;5;28;01mtry\u001b[39;00m:\n\u001b[0;32m--> 707\u001b[0m         \u001b[38;5;28;01mreturn\u001b[39;00m \u001b[38;5;28;43mself\u001b[39;49m\u001b[38;5;241;43m.\u001b[39;49m\u001b[43m_sock\u001b[49m\u001b[38;5;241;43m.\u001b[39;49m\u001b[43mrecv_into\u001b[49m\u001b[43m(\u001b[49m\u001b[43mb\u001b[49m\u001b[43m)\u001b[49m\n\u001b[1;32m    708\u001b[0m     \u001b[38;5;28;01mexcept\u001b[39;00m timeout:\n\u001b[1;32m    709\u001b[0m         \u001b[38;5;28mself\u001b[39m\u001b[38;5;241m.\u001b[39m_timeout_occurred \u001b[38;5;241m=\u001b[39m \u001b[38;5;28;01mTrue\u001b[39;00m\n",
      "\u001b[0;31mKeyboardInterrupt\u001b[0m: "
     ]
    }
   ],
   "source": [
    "best_model = None\n",
    "best_rmse = float('inf')\n",
    "best_name = \"\"\n",
    "\n",
    "# Evaluate models\n",
    "for name, model in models.items():\n",
    "    pipeline = Pipeline(stages=indexers + [assembler, model])\n",
    "\n",
    "    paramGrid = ParamGridBuilder().build()\n",
    "    crossval = CrossValidator(estimator=pipeline,\n",
    "                              estimatorParamMaps=paramGrid,\n",
    "                              evaluator=RegressionEvaluator(labelCol='usdprice', predictionCol='prediction', metricName='rmse'),\n",
    "                              numFolds=5)\n",
    "\n",
    "    try:\n",
    "        cv_model = crossval.fit(train_data)\n",
    "        predictions = cv_model.transform(test_data)\n",
    "        rmse = RegressionEvaluator(labelCol='usdprice', predictionCol='prediction', metricName='rmse').evaluate(predictions)\n",
    "\n",
    "        print(f\"{name} RMSE: {rmse}\")\n",
    "\n",
    "        if rmse < best_rmse:\n",
    "            best_rmse = rmse\n",
    "            best_model = cv_model.bestModel\n",
    "            best_name = name\n",
    "\n",
    "    except Exception as e:\n",
    "        print(f\"Failed to train {name} model: {e}\")\n",
    "\n",
    "print(f\"Best model: {best_name} with RMSE: {best_rmse}\")"
   ]
  },
  {
   "cell_type": "code",
   "execution_count": null,
   "metadata": {
    "colab": {
     "base_uri": "https://localhost:8080/"
    },
    "executionInfo": {
     "elapsed": 10502,
     "status": "ok",
     "timestamp": 1741072852039,
     "user": {
      "displayName": "BRIAN OMONDI",
      "userId": "10412797874550437401"
     },
     "user_tz": -180
    },
    "id": "MC5aeVN_4viC",
    "outputId": "1579f7a3-1107-424a-a5f9-1515da0d6ae1"
   },
   "outputs": [
    {
     "name": "stdout",
     "output_type": "stream",
     "text": [
      "Model saved to drive/MyDrive/Distributed-Food-Price-Prediction-for-Kenyan-Markets/models/gbt_price_prediction_model\n"
     ]
    }
   ],
   "source": [
    "best_gbt_model = cv_model.bestModel\n",
    "\n",
    "\n",
    "model_path = \"drive/MyDrive/Distributed-Food-Price-Prediction-for-Kenyan-Markets/models/gbt_price_prediction_model\"\n",
    "best_gbt_model.save(model_path)\n",
    "\n",
    "print(f\"Model saved to {model_path}\")"
   ]
  },
  {
   "cell_type": "code",
   "execution_count": null,
   "metadata": {},
   "outputs": [],
   "source": []
  },
  {
   "cell_type": "code",
   "execution_count": 13,
   "metadata": {},
   "outputs": [],
   "source": [
    "from pyspark.sql import Row"
   ]
  },
  {
   "cell_type": "code",
   "execution_count": 14,
   "metadata": {
    "id": "XijBrRCHHNKF"
   },
   "outputs": [],
   "source": [
    "sample_data = [\n",
    "    Row(region=\"Coast\", county=\"Mombasa\", market=\"Mombasa\", category=\"cereals and tubers\", commodity=\"Maize\", unit=\"KG\", latitude=-4.05, longitude=39.666667)\n",
    "]"
   ]
  },
  {
   "cell_type": "code",
   "execution_count": 15,
   "metadata": {
    "id": "AHMMNSv2HNDP"
   },
   "outputs": [],
   "source": [
    "sample_df = spark.createDataFrame(sample_data)"
   ]
  },
  {
   "cell_type": "code",
   "execution_count": 16,
   "metadata": {
    "id": "iEdHBc6ZHNAS"
   },
   "outputs": [],
   "source": [
    "indexers = [StringIndexer(inputCol=col, outputCol=f\"{col}_index\", handleInvalid='keep') for col in ['region', 'county', 'market', 'category', 'commodity', 'unit']]"
   ]
  },
  {
   "cell_type": "code",
   "execution_count": 17,
   "metadata": {},
   "outputs": [],
   "source": [
    "assembler = VectorAssembler(inputCols=[f\"{col}_index\" for col in ['region', 'county', 'market', 'category', 'commodity', 'unit']] + ['latitude', 'longitude'],\n",
    "                            outputCol='features', handleInvalid='skip')"
   ]
  },
  {
   "cell_type": "code",
   "execution_count": 18,
   "metadata": {},
   "outputs": [],
   "source": [
    "pipeline = Pipeline(stages=indexers + [assembler])"
   ]
  },
  {
   "cell_type": "code",
   "execution_count": 19,
   "metadata": {},
   "outputs": [
    {
     "name": "stderr",
     "output_type": "stream",
     "text": [
      "                                                                                \r"
     ]
    }
   ],
   "source": [
    "pipeline_model = pipeline.fit(sample_df)\n",
    "transformed_sample_df = pipeline_model.transform(sample_df)"
   ]
  },
  {
   "cell_type": "code",
   "execution_count": 20,
   "metadata": {},
   "outputs": [
    {
     "ename": "NameError",
     "evalue": "name 'best_gbt_model' is not defined",
     "output_type": "error",
     "traceback": [
      "\u001b[0;31m---------------------------------------------------------------------------\u001b[0m",
      "\u001b[0;31mNameError\u001b[0m                                 Traceback (most recent call last)",
      "Cell \u001b[0;32mIn[20], line 1\u001b[0m\n\u001b[0;32m----> 1\u001b[0m predictions \u001b[38;5;241m=\u001b[39m \u001b[43mbest_gbt_model\u001b[49m\u001b[38;5;241m.\u001b[39mtransform(transformed_sample_df)\n",
      "\u001b[0;31mNameError\u001b[0m: name 'best_gbt_model' is not defined"
     ]
    }
   ],
   "source": [
    "predictions = best_gbt_model.transform(transformed_sample_df)"
   ]
  },
  {
   "cell_type": "code",
   "execution_count": null,
   "metadata": {},
   "outputs": [],
   "source": [
    "predictions.select('prediction').show()"
   ]
  },
  {
   "cell_type": "code",
   "execution_count": null,
   "metadata": {},
   "outputs": [],
   "source": []
  },
  {
   "cell_type": "code",
   "execution_count": null,
   "metadata": {},
   "outputs": [],
   "source": []
  },
  {
   "cell_type": "code",
   "execution_count": null,
   "metadata": {},
   "outputs": [],
   "source": []
  },
  {
   "cell_type": "code",
   "execution_count": null,
   "metadata": {},
   "outputs": [],
   "source": []
  },
  {
   "cell_type": "code",
   "execution_count": null,
   "metadata": {},
   "outputs": [],
   "source": []
  },
  {
   "cell_type": "code",
   "execution_count": null,
   "metadata": {},
   "outputs": [],
   "source": []
  },
  {
   "cell_type": "code",
   "execution_count": null,
   "metadata": {
    "id": "xe8oWx6MHM9w"
   },
   "outputs": [],
   "source": []
  },
  {
   "cell_type": "markdown",
   "metadata": {
    "id": "Q26mBGiznxc4"
   },
   "source": [
    "# GIt Version Control Setup"
   ]
  },
  {
   "cell_type": "markdown",
   "metadata": {
    "id": "0whyBxyik5ai"
   },
   "source": [
    "# brc0d3s (dev Branch)"
   ]
  },
  {
   "cell_type": "code",
   "execution_count": 49,
   "metadata": {
    "colab": {
     "base_uri": "https://localhost:8080/"
    },
    "executionInfo": {
     "elapsed": 70,
     "status": "ok",
     "timestamp": 1741072408592,
     "user": {
      "displayName": "BRIAN OMONDI",
      "userId": "10412797874550437401"
     },
     "user_tz": -180
    },
    "id": "CDxn0EClk8Yl",
    "outputId": "ee3df7c8-5953-4431-a7b1-1fff86966568"
   },
   "outputs": [
    {
     "name": "stdout",
     "output_type": "stream",
     "text": [
      "/content/drive/MyDrive/Distributed-Food-Price-Prediction-for-Kenyan-Markets\n"
     ]
    }
   ],
   "source": [
    "%cd /content/drive/MyDrive/Distributed-Food-Price-Prediction-for-Kenyan-Markets"
   ]
  },
  {
   "cell_type": "code",
   "execution_count": 50,
   "metadata": {
    "colab": {
     "base_uri": "https://localhost:8080/"
    },
    "executionInfo": {
     "elapsed": 10933,
     "status": "ok",
     "timestamp": 1741072423743,
     "user": {
      "displayName": "BRIAN OMONDI",
      "userId": "10412797874550437401"
     },
     "user_tz": -180
    },
    "id": "D272Bb4hqMZi",
    "outputId": "c57fcd1a-b58e-47a7-f3ef-ff098c75e7e7"
   },
   "outputs": [
    {
     "name": "stdout",
     "output_type": "stream",
     "text": [
      "remote: Enumerating objects: 1, done.\u001b[K\n",
      "remote: Counting objects: 100% (1/1)\u001b[K\rremote: Counting objects: 100% (1/1), done.\u001b[K\n",
      "remote: Total 1 (delta 0), reused 0 (delta 0), pack-reused 0 (from 0)\u001b[K\n",
      "Unpacking objects: 100% (1/1)\rUnpacking objects: 100% (1/1), 889 bytes | 88.00 KiB/s, done.\n",
      "From https://github.com/brc0d3s/Distributed-Food-Price-Prediction-for-Kenyan-Markets\n",
      " * branch            main       -> FETCH_HEAD\n",
      "   900cd52..e00d7eb  main       -> origin/main\n",
      "\u001b[33mhint: You have divergent branches and need to specify how to reconcile them.\u001b[m\n",
      "\u001b[33mhint: You can do so by running one of the following commands sometime before\u001b[m\n",
      "\u001b[33mhint: your next pull:\u001b[m\n",
      "\u001b[33mhint: \u001b[m\n",
      "\u001b[33mhint:   git config pull.rebase false  # merge (the default strategy)\u001b[m\n",
      "\u001b[33mhint:   git config pull.rebase true   # rebase\u001b[m\n",
      "\u001b[33mhint:   git config pull.ff only       # fast-forward only\u001b[m\n",
      "\u001b[33mhint: \u001b[m\n",
      "\u001b[33mhint: You can replace \"git config\" with \"git config --global\" to set a default\u001b[m\n",
      "\u001b[33mhint: preference for all repositories. You can also pass --rebase, --no-rebase,\u001b[m\n",
      "\u001b[33mhint: or --ff-only on the command line to override the configured default per\u001b[m\n",
      "\u001b[33mhint: invocation.\u001b[m\n",
      "fatal: Need to specify how to reconcile divergent branches.\n"
     ]
    }
   ],
   "source": [
    "!git pull origin main"
   ]
  },
  {
   "cell_type": "code",
   "execution_count": 56,
   "metadata": {
    "executionInfo": {
     "elapsed": 1655,
     "status": "ok",
     "timestamp": 1741072871025,
     "user": {
      "displayName": "BRIAN OMONDI",
      "userId": "10412797874550437401"
     },
     "user_tz": -180
    },
    "id": "F_rnaUg5oc5A"
   },
   "outputs": [],
   "source": [
    "!git add ."
   ]
  },
  {
   "cell_type": "code",
   "execution_count": 57,
   "metadata": {
    "executionInfo": {
     "elapsed": 233,
     "status": "ok",
     "timestamp": 1741072874204,
     "user": {
      "displayName": "BRIAN OMONDI",
      "userId": "10412797874550437401"
     },
     "user_tz": -180
    },
    "id": "2AQiRp9Wwrlm"
   },
   "outputs": [],
   "source": [
    "!git config --global user.email \"brc0d3s@gmail.com\"\n",
    "!git config --global user.name \"brc0d3s\""
   ]
  },
  {
   "cell_type": "code",
   "execution_count": 58,
   "metadata": {
    "colab": {
     "base_uri": "https://localhost:8080/"
    },
    "executionInfo": {
     "elapsed": 1133,
     "status": "ok",
     "timestamp": 1741072888566,
     "user": {
      "displayName": "BRIAN OMONDI",
      "userId": "10412797874550437401"
     },
     "user_tz": -180
    },
    "id": "USdcmjigo227",
    "outputId": "be481ca9-5bf4-4021-f8ce-a2f49f790a1d"
   },
   "outputs": [
    {
     "name": "stdout",
     "output_type": "stream",
     "text": [
      "[dev 114d1e6] model\n",
      " 65 files changed, 10 insertions(+), 1 deletion(-)\n",
      " create mode 100644 models/gbt_price_prediction_model/metadata/._SUCCESS.crc\n",
      " create mode 100644 models/gbt_price_prediction_model/metadata/.part-00000.crc\n",
      " create mode 100644 models/gbt_price_prediction_model/metadata/_SUCCESS\n",
      " create mode 100644 models/gbt_price_prediction_model/metadata/part-00000\n",
      " create mode 100644 models/gbt_price_prediction_model/stages/0_StringIndexer_458939cc39e8/data/._SUCCESS.crc\n",
      " create mode 100644 models/gbt_price_prediction_model/stages/0_StringIndexer_458939cc39e8/data/.part-00000-0c4ae22f-c12a-475c-8067-c26b2ffbb2e4-c000.snappy.parquet.crc\n",
      " create mode 100644 models/gbt_price_prediction_model/stages/0_StringIndexer_458939cc39e8/data/_SUCCESS\n",
      " create mode 100644 models/gbt_price_prediction_model/stages/0_StringIndexer_458939cc39e8/data/part-00000-0c4ae22f-c12a-475c-8067-c26b2ffbb2e4-c000.snappy.parquet\n",
      " create mode 100644 models/gbt_price_prediction_model/stages/0_StringIndexer_458939cc39e8/metadata/._SUCCESS.crc\n",
      " create mode 100644 models/gbt_price_prediction_model/stages/0_StringIndexer_458939cc39e8/metadata/.part-00000.crc\n",
      " create mode 100644 models/gbt_price_prediction_model/stages/0_StringIndexer_458939cc39e8/metadata/_SUCCESS\n",
      " create mode 100644 models/gbt_price_prediction_model/stages/0_StringIndexer_458939cc39e8/metadata/part-00000\n",
      " create mode 100644 models/gbt_price_prediction_model/stages/1_StringIndexer_cd5d32e156bd/data/._SUCCESS.crc\n",
      " create mode 100644 models/gbt_price_prediction_model/stages/1_StringIndexer_cd5d32e156bd/data/.part-00000-e76d173a-fae2-4731-97c8-882813c6ee7f-c000.snappy.parquet.crc\n",
      " create mode 100644 models/gbt_price_prediction_model/stages/1_StringIndexer_cd5d32e156bd/data/_SUCCESS\n",
      " create mode 100644 models/gbt_price_prediction_model/stages/1_StringIndexer_cd5d32e156bd/data/part-00000-e76d173a-fae2-4731-97c8-882813c6ee7f-c000.snappy.parquet\n",
      " create mode 100644 models/gbt_price_prediction_model/stages/1_StringIndexer_cd5d32e156bd/metadata/._SUCCESS.crc\n",
      " create mode 100644 models/gbt_price_prediction_model/stages/1_StringIndexer_cd5d32e156bd/metadata/.part-00000.crc\n",
      " create mode 100644 models/gbt_price_prediction_model/stages/1_StringIndexer_cd5d32e156bd/metadata/_SUCCESS\n",
      " create mode 100644 models/gbt_price_prediction_model/stages/1_StringIndexer_cd5d32e156bd/metadata/part-00000\n",
      " create mode 100644 models/gbt_price_prediction_model/stages/2_StringIndexer_908327f088c8/data/._SUCCESS.crc\n",
      " create mode 100644 models/gbt_price_prediction_model/stages/2_StringIndexer_908327f088c8/data/.part-00000-3f4df10a-f9bf-401c-8957-e885d838c113-c000.snappy.parquet.crc\n",
      " create mode 100644 models/gbt_price_prediction_model/stages/2_StringIndexer_908327f088c8/data/_SUCCESS\n",
      " create mode 100644 models/gbt_price_prediction_model/stages/2_StringIndexer_908327f088c8/data/part-00000-3f4df10a-f9bf-401c-8957-e885d838c113-c000.snappy.parquet\n",
      " create mode 100644 models/gbt_price_prediction_model/stages/2_StringIndexer_908327f088c8/metadata/._SUCCESS.crc\n",
      " create mode 100644 models/gbt_price_prediction_model/stages/2_StringIndexer_908327f088c8/metadata/.part-00000.crc\n",
      " create mode 100644 models/gbt_price_prediction_model/stages/2_StringIndexer_908327f088c8/metadata/_SUCCESS\n",
      " create mode 100644 models/gbt_price_prediction_model/stages/2_StringIndexer_908327f088c8/metadata/part-00000\n",
      " create mode 100644 models/gbt_price_prediction_model/stages/3_StringIndexer_63f2f85e4cb3/data/._SUCCESS.crc\n",
      " create mode 100644 models/gbt_price_prediction_model/stages/3_StringIndexer_63f2f85e4cb3/data/.part-00000-212e333c-d24a-4d2f-9b25-f2d20503d3c7-c000.snappy.parquet.crc\n",
      " create mode 100644 models/gbt_price_prediction_model/stages/3_StringIndexer_63f2f85e4cb3/data/_SUCCESS\n",
      " create mode 100644 models/gbt_price_prediction_model/stages/3_StringIndexer_63f2f85e4cb3/data/part-00000-212e333c-d24a-4d2f-9b25-f2d20503d3c7-c000.snappy.parquet\n",
      " create mode 100644 models/gbt_price_prediction_model/stages/3_StringIndexer_63f2f85e4cb3/metadata/._SUCCESS.crc\n",
      " create mode 100644 models/gbt_price_prediction_model/stages/3_StringIndexer_63f2f85e4cb3/metadata/.part-00000.crc\n",
      " create mode 100644 models/gbt_price_prediction_model/stages/3_StringIndexer_63f2f85e4cb3/metadata/_SUCCESS\n",
      " create mode 100644 models/gbt_price_prediction_model/stages/3_StringIndexer_63f2f85e4cb3/metadata/part-00000\n",
      " create mode 100644 models/gbt_price_prediction_model/stages/4_StringIndexer_d43075bfbbb4/data/._SUCCESS.crc\n",
      " create mode 100644 models/gbt_price_prediction_model/stages/4_StringIndexer_d43075bfbbb4/data/.part-00000-2b0815db-e458-443b-bf1b-73b8e8d5a595-c000.snappy.parquet.crc\n",
      " create mode 100644 models/gbt_price_prediction_model/stages/4_StringIndexer_d43075bfbbb4/data/_SUCCESS\n",
      " create mode 100644 models/gbt_price_prediction_model/stages/4_StringIndexer_d43075bfbbb4/data/part-00000-2b0815db-e458-443b-bf1b-73b8e8d5a595-c000.snappy.parquet\n",
      " create mode 100644 models/gbt_price_prediction_model/stages/4_StringIndexer_d43075bfbbb4/metadata/._SUCCESS.crc\n",
      " create mode 100644 models/gbt_price_prediction_model/stages/4_StringIndexer_d43075bfbbb4/metadata/.part-00000.crc\n",
      " create mode 100644 models/gbt_price_prediction_model/stages/4_StringIndexer_d43075bfbbb4/metadata/_SUCCESS\n",
      " create mode 100644 models/gbt_price_prediction_model/stages/4_StringIndexer_d43075bfbbb4/metadata/part-00000\n",
      " create mode 100644 models/gbt_price_prediction_model/stages/5_StringIndexer_bc204bb19805/data/._SUCCESS.crc\n",
      " create mode 100644 models/gbt_price_prediction_model/stages/5_StringIndexer_bc204bb19805/data/.part-00000-f2b9f58c-c3ef-460d-a9a4-5f70427035d6-c000.snappy.parquet.crc\n",
      " create mode 100644 models/gbt_price_prediction_model/stages/5_StringIndexer_bc204bb19805/data/_SUCCESS\n",
      " create mode 100644 models/gbt_price_prediction_model/stages/5_StringIndexer_bc204bb19805/data/part-00000-f2b9f58c-c3ef-460d-a9a4-5f70427035d6-c000.snappy.parquet\n",
      " create mode 100644 models/gbt_price_prediction_model/stages/5_StringIndexer_bc204bb19805/metadata/._SUCCESS.crc\n",
      " create mode 100644 models/gbt_price_prediction_model/stages/5_StringIndexer_bc204bb19805/metadata/.part-00000.crc\n",
      " create mode 100644 models/gbt_price_prediction_model/stages/5_StringIndexer_bc204bb19805/metadata/_SUCCESS\n",
      " create mode 100644 models/gbt_price_prediction_model/stages/5_StringIndexer_bc204bb19805/metadata/part-00000\n",
      " create mode 100644 models/gbt_price_prediction_model/stages/6_VectorAssembler_4909c8d02abf/metadata/._SUCCESS.crc\n",
      " create mode 100644 models/gbt_price_prediction_model/stages/6_VectorAssembler_4909c8d02abf/metadata/.part-00000.crc\n",
      " create mode 100644 models/gbt_price_prediction_model/stages/6_VectorAssembler_4909c8d02abf/metadata/_SUCCESS\n",
      " create mode 100644 models/gbt_price_prediction_model/stages/6_VectorAssembler_4909c8d02abf/metadata/part-00000\n",
      " create mode 100644 models/gbt_price_prediction_model/stages/7_LinearRegression_2b5f2f04853b/data/._SUCCESS.crc\n",
      " create mode 100644 models/gbt_price_prediction_model/stages/7_LinearRegression_2b5f2f04853b/data/.part-00000-ec2d8ae9-210d-4c91-9ef6-32513d696588-c000.snappy.parquet.crc\n",
      " create mode 100644 models/gbt_price_prediction_model/stages/7_LinearRegression_2b5f2f04853b/data/_SUCCESS\n",
      " create mode 100644 models/gbt_price_prediction_model/stages/7_LinearRegression_2b5f2f04853b/data/part-00000-ec2d8ae9-210d-4c91-9ef6-32513d696588-c000.snappy.parquet\n",
      " create mode 100644 models/gbt_price_prediction_model/stages/7_LinearRegression_2b5f2f04853b/metadata/._SUCCESS.crc\n",
      " create mode 100644 models/gbt_price_prediction_model/stages/7_LinearRegression_2b5f2f04853b/metadata/.part-00000.crc\n",
      " create mode 100644 models/gbt_price_prediction_model/stages/7_LinearRegression_2b5f2f04853b/metadata/_SUCCESS\n",
      " create mode 100644 models/gbt_price_prediction_model/stages/7_LinearRegression_2b5f2f04853b/metadata/part-00000\n"
     ]
    }
   ],
   "source": [
    "!git commit -m \"model\""
   ]
  },
  {
   "cell_type": "code",
   "execution_count": 59,
   "metadata": {
    "colab": {
     "base_uri": "https://localhost:8080/"
    },
    "executionInfo": {
     "elapsed": 2069,
     "status": "ok",
     "timestamp": 1741072895951,
     "user": {
      "displayName": "BRIAN OMONDI",
      "userId": "10412797874550437401"
     },
     "user_tz": -180
    },
    "id": "7jXzXt5ppIou",
    "outputId": "8d69294a-ea3e-4985-ae52-3784e43a3d85"
   },
   "outputs": [
    {
     "name": "stdout",
     "output_type": "stream",
     "text": [
      "Enumerating objects: 66, done.\n",
      "Counting objects: 100% (66/66), done.\n",
      "Delta compression using up to 2 threads\n",
      "Compressing objects: 100% (45/45), done.\n",
      "Writing objects: 100% (64/64), 10.17 KiB | 63.00 KiB/s, done.\n",
      "Total 64 (delta 17), reused 0 (delta 0), pack-reused 0\n",
      "remote: Resolving deltas: 100% (17/17), completed with 2 local objects.\u001b[K\n",
      "To https://github.com/brc0d3s/Distributed-Food-Price-Prediction-for-Kenyan-Markets.git\n",
      "   fa5272c..114d1e6  dev -> dev\n"
     ]
    }
   ],
   "source": [
    "!git push origin dev"
   ]
  },
  {
   "cell_type": "code",
   "execution_count": null,
   "metadata": {
    "id": "3Z5fjXKola6P"
   },
   "outputs": [],
   "source": []
  },
  {
   "cell_type": "code",
   "execution_count": null,
   "metadata": {
    "id": "xBRzpMEwlbZi"
   },
   "outputs": [],
   "source": []
  },
  {
   "cell_type": "code",
   "execution_count": null,
   "metadata": {
    "id": "UQ8OxLE2GyaT"
   },
   "outputs": [],
   "source": []
  },
  {
   "cell_type": "code",
   "execution_count": null,
   "metadata": {
    "id": "PRVVylmbGyQ2"
   },
   "outputs": [],
   "source": []
  },
  {
   "cell_type": "markdown",
   "metadata": {
    "id": "9IO3S5fIilbD"
   },
   "source": [
    "# barth123 (barth Branch)"
   ]
  },
  {
   "cell_type": "code",
   "execution_count": null,
   "metadata": {
    "colab": {
     "base_uri": "https://localhost:8080/"
    },
    "executionInfo": {
     "elapsed": 406,
     "status": "ok",
     "timestamp": 1739797351166,
     "user": {
      "displayName": "Barthlomew Nyongesa",
      "userId": "01807122646896560357"
     },
     "user_tz": -180
    },
    "id": "Onsc5vxw_qn9",
    "outputId": "c893a021-e40e-4b1c-b9a5-41114b74c898"
   },
   "outputs": [
    {
     "name": "stdout",
     "output_type": "stream",
     "text": [
      "/content/drive/MyDrive\n"
     ]
    }
   ],
   "source": [
    "%cd /content/drive/MyDrive/Distributed-Food-Price-Prediction-for-Kenyan-Markets"
   ]
  },
  {
   "cell_type": "code",
   "execution_count": null,
   "metadata": {
    "colab": {
     "base_uri": "https://localhost:8080/"
    },
    "executionInfo": {
     "elapsed": 414,
     "status": "ok",
     "timestamp": 1739797365303,
     "user": {
      "displayName": "Barthlomew Nyongesa",
      "userId": "01807122646896560357"
     },
     "user_tz": -180
    },
    "id": "FWSpz9KSAMbu",
    "outputId": "08074360-0a33-46b3-ba82-2affa0bff033"
   },
   "outputs": [
    {
     "name": "stdout",
     "output_type": "stream",
     "text": [
      "'Barth ATS standard Resume (1).pdf'\t      housing.csv\n",
      "'Barth ATS standard Resume.pdf'\t\t      housing.gsheet\n",
      "'barth cv.docx'\t\t\t\t      IMG_20250121_172040_147.jpg\n",
      "'BATHOLOMEN-OGUTU-NYONGESA-REPORT (1).docx'   Lab1.ipynb\n",
      "'BATHOLOMEN-OGUTU-NYONGESA-REPORT (2).docx'   Relizane_Data.xlsx\n",
      " BATHOLOMEN-OGUTU-NYONGESA-REPORT.docx\t     'Scan 01 Dec 21 · 03·59·05.pdf'\n",
      "'Batholomew Nyongesa cv.docx'\t\t     'Transcript-1046075 (2).pdf'\n",
      "'Batholomew Nyongesa cv.pdf'\t\t     'Transcript-1046075 (3).pdf'\n",
      " CoinbaseWalletBackups\t\t\t      TrustWalletBackup\n",
      "'Colab Notebooks'\t\t\t      Untitled0.ipynb\n",
      " DMLLabworks.ipynb\t\t\t     'Untitled document.gdoc'\n",
      "'Getting started.pdf'\t\t\t     'Untitled spreadsheet.gsheet'\n"
     ]
    }
   ],
   "source": [
    "!git pull"
   ]
  },
  {
   "cell_type": "code",
   "execution_count": null,
   "metadata": {
    "id": "RInyveJKDc9r"
   },
   "outputs": [],
   "source": [
    "!git add ."
   ]
  },
  {
   "cell_type": "code",
   "execution_count": null,
   "metadata": {
    "colab": {
     "base_uri": "https://localhost:8080/"
    },
    "executionInfo": {
     "elapsed": 405,
     "status": "ok",
     "timestamp": 1740214926020,
     "user": {
      "displayName": "BRIAN OMONDI",
      "userId": "10412797874550437401"
     },
     "user_tz": -180
    },
    "id": "FFhvI5tUmTS9",
    "outputId": "379b3ed9-8e9e-419b-fb73-b8e0e06b1c75"
   },
   "outputs": [
    {
     "name": "stdout",
     "output_type": "stream",
     "text": [
      "[dev 3056fb5] Data Cleaning\n",
      " 3 files changed, 1 insertion(+), 1 deletion(-)\n",
      " create mode 100644 Abstract/ABSTRACT_GROUP20.docx\n",
      " create mode 100644 Abstract/ABSTRACT_GROUP20.pdf\n"
     ]
    }
   ],
   "source": [
    "!git commit -m \"Data Cleaning\""
   ]
  },
  {
   "cell_type": "code",
   "execution_count": null,
   "metadata": {
    "colab": {
     "base_uri": "https://localhost:8080/"
    },
    "executionInfo": {
     "elapsed": 821,
     "status": "ok",
     "timestamp": 1740214931444,
     "user": {
      "displayName": "BRIAN OMONDI",
      "userId": "10412797874550437401"
     },
     "user_tz": -180
    },
    "id": "S2e_fTp5mWWx",
    "outputId": "f04820c5-89d6-40b4-ae64-79b1ab240736"
   },
   "outputs": [
    {
     "name": "stdout",
     "output_type": "stream",
     "text": [
      "Enumerating objects: 8, done.\n",
      "Counting objects:  12% (1/8)\rCounting objects:  25% (2/8)\rCounting objects:  37% (3/8)\rCounting objects:  50% (4/8)\rCounting objects:  62% (5/8)\rCounting objects:  75% (6/8)\rCounting objects:  87% (7/8)\rCounting objects: 100% (8/8)\rCounting objects: 100% (8/8), done.\n",
      "Delta compression using up to 2 threads\n",
      "Compressing objects:  16% (1/6)\rCompressing objects:  33% (2/6)\rCompressing objects:  50% (3/6)\rCompressing objects:  66% (4/6)\rCompressing objects:  83% (5/6)\rCompressing objects: 100% (6/6)\rCompressing objects: 100% (6/6), done.\n",
      "Writing objects:  16% (1/6)\rWriting objects:  33% (2/6)\rWriting objects:  50% (3/6)\rWriting objects:  66% (4/6)\rWriting objects:  83% (5/6)\rWriting objects: 100% (6/6)\rWriting objects: 100% (6/6), 114.97 KiB | 3.48 MiB/s, done.\n",
      "Total 6 (delta 2), reused 0 (delta 0), pack-reused 0\n",
      "remote: Resolving deltas:   0% (0/2)\u001b[K\rremote: Resolving deltas:  50% (1/2)\u001b[K\rremote: Resolving deltas: 100% (2/2)\u001b[K\rremote: Resolving deltas: 100% (2/2), completed with 2 local objects.\u001b[K\n",
      "To https://github.com/brc0d3s/Distributed-Food-Price-Prediction-for-Kenyan-Markets.git\n",
      "   c73c1fd..3056fb5  dev -> dev\n"
     ]
    }
   ],
   "source": [
    "!git push origin dev"
   ]
  }
 ],
 "metadata": {
  "accelerator": "GPU",
  "colab": {
   "gpuType": "T4",
   "provenance": []
  },
  "kernelspec": {
   "display_name": "Python 3",
   "name": "python3"
  },
  "language_info": {
   "codemirror_mode": {
    "name": "ipython",
    "version": 3
   },
   "file_extension": ".py",
   "mimetype": "text/x-python",
   "name": "python",
   "nbconvert_exporter": "python",
   "pygments_lexer": "ipython3",
   "version": "3.12.1"
  }
 },
 "nbformat": 4,
 "nbformat_minor": 0
}
